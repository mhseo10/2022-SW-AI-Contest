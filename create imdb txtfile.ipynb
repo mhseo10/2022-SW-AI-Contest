{
 "cells": [
  {
   "cell_type": "code",
   "execution_count": 1,
   "metadata": {},
   "outputs": [],
   "source": [
    "import pandas as pd\n",
    "import numpy as np"
   ]
  },
  {
   "cell_type": "markdown",
   "metadata": {
    "pycharm": {
     "name": "#%% md\n"
    }
   },
   "source": [
    "## OCR 모델을 위한 패키지 설치"
   ]
  },
  {
   "cell_type": "code",
   "execution_count": 2,
   "metadata": {
    "collapsed": false,
    "jupyter": {
     "outputs_hidden": false
    },
    "pycharm": {
     "name": "#%%\n"
    }
   },
   "outputs": [],
   "source": [
    "# # install deep-text-recognition-benchmark dependency\n",
    "# !pip install lmdb pillow torchvision nltk natsort fire"
   ]
  },
  {
   "cell_type": "code",
   "execution_count": 3,
   "metadata": {
    "collapsed": false,
    "jupyter": {
     "outputs_hidden": false
    },
    "pycharm": {
     "name": "#%%\n"
    }
   },
   "outputs": [],
   "source": [
    "# # install TextRecognitionDataGenerator\n",
    "# !pip install trdg seaborn tqdm tensorflow beautifulsoup4"
   ]
  },
  {
   "cell_type": "code",
   "execution_count": 4,
   "metadata": {
    "collapsed": false,
    "jupyter": {
     "outputs_hidden": false
    },
    "pycharm": {
     "name": "#%%\n"
    }
   },
   "outputs": [],
   "source": [
    "# # ocr 리포지토리 클론\n",
    "# !git clone https://github.com/mhseo10/customocr.git"
   ]
  },
  {
   "cell_type": "code",
   "execution_count": null,
   "metadata": {
    "collapsed": false,
    "jupyter": {
     "outputs_hidden": false
    },
    "pycharm": {
     "name": "#%%\n"
    }
   },
   "outputs": [],
   "source": [
    "from datetime import datetime\n",
    "\n",
    "time = datetime.now().strftime('%m%d_%H%M')\n",
    "csv_name = f'open/train_{time}.csv'\n",
    "train_csv.to_csv(csv_name, index=False, encoding='UTF-8')"
   ]
  },
  {
   "cell_type": "code",
   "execution_count": 15,
   "metadata": {
    "collapsed": false,
    "jupyter": {
     "outputs_hidden": false
    },
    "pycharm": {
     "name": "#%%\n"
    }
   },
   "outputs": [
    {
     "data": {
      "text/html": [
       "<div>\n",
       "<style scoped>\n",
       "    .dataframe tbody tr th:only-of-type {\n",
       "        vertical-align: middle;\n",
       "    }\n",
       "\n",
       "    .dataframe tbody tr th {\n",
       "        vertical-align: top;\n",
       "    }\n",
       "\n",
       "    .dataframe thead th {\n",
       "        text-align: right;\n",
       "    }\n",
       "</style>\n",
       "<table border=\"1\" class=\"dataframe\">\n",
       "  <thead>\n",
       "    <tr style=\"text-align: right;\">\n",
       "      <th></th>\n",
       "      <th>path</th>\n",
       "      <th>label</th>\n",
       "    </tr>\n",
       "  </thead>\n",
       "  <tbody>\n",
       "    <tr>\n",
       "      <th>0</th>\n",
       "      <td>/hdd1/SW/customocr/crop_image/train_data_0.jpg</td>\n",
       "      <td>안식처</td>\n",
       "    </tr>\n",
       "    <tr>\n",
       "      <th>1</th>\n",
       "      <td>/hdd1/SW/customocr/crop_image/train_data_1.jpg</td>\n",
       "      <td>강동</td>\n",
       "    </tr>\n",
       "    <tr>\n",
       "      <th>2</th>\n",
       "      <td>/hdd1/SW/customocr/crop_image/train_data_2.jpg</td>\n",
       "      <td>아구찜</td>\n",
       "    </tr>\n",
       "    <tr>\n",
       "      <th>3</th>\n",
       "      <td>/hdd1/SW/customocr/crop_image/train_data_3.jpg</td>\n",
       "      <td>열선 씨트</td>\n",
       "    </tr>\n",
       "    <tr>\n",
       "      <th>4</th>\n",
       "      <td>/hdd1/SW/customocr/crop_image/train_data_4.jpg</td>\n",
       "      <td>렌트카</td>\n",
       "    </tr>\n",
       "    <tr>\n",
       "      <th>...</th>\n",
       "      <td>...</td>\n",
       "      <td>...</td>\n",
       "    </tr>\n",
       "    <tr>\n",
       "      <th>756227</th>\n",
       "      <td>/hdd1/SW/customocr/crop_image/train_data_75622...</td>\n",
       "      <td>공룡들이 있었어</td>\n",
       "    </tr>\n",
       "    <tr>\n",
       "      <th>756228</th>\n",
       "      <td>/hdd1/SW/customocr/crop_image/train_data_75623...</td>\n",
       "      <td>깊은밤</td>\n",
       "    </tr>\n",
       "    <tr>\n",
       "      <th>756229</th>\n",
       "      <td>/hdd1/SW/customocr/crop_image/train_data_75623...</td>\n",
       "      <td>판사</td>\n",
       "    </tr>\n",
       "    <tr>\n",
       "      <th>756230</th>\n",
       "      <td>/hdd1/SW/customocr/crop_image/train_data_75623...</td>\n",
       "      <td>유감</td>\n",
       "    </tr>\n",
       "    <tr>\n",
       "      <th>756231</th>\n",
       "      <td>/hdd1/SW/customocr/crop_image/train_data_75623...</td>\n",
       "      <td>비오는날</td>\n",
       "    </tr>\n",
       "  </tbody>\n",
       "</table>\n",
       "<p>756232 rows × 2 columns</p>\n",
       "</div>"
      ],
      "text/plain": [
       "                                                     path     label\n",
       "0          /hdd1/SW/customocr/crop_image/train_data_0.jpg       안식처\n",
       "1          /hdd1/SW/customocr/crop_image/train_data_1.jpg        강동\n",
       "2          /hdd1/SW/customocr/crop_image/train_data_2.jpg       아구찜\n",
       "3          /hdd1/SW/customocr/crop_image/train_data_3.jpg     열선 씨트\n",
       "4          /hdd1/SW/customocr/crop_image/train_data_4.jpg       렌트카\n",
       "...                                                   ...       ...\n",
       "756227  /hdd1/SW/customocr/crop_image/train_data_75622...  공룡들이 있었어\n",
       "756228  /hdd1/SW/customocr/crop_image/train_data_75623...       깊은밤\n",
       "756229  /hdd1/SW/customocr/crop_image/train_data_75623...        판사\n",
       "756230  /hdd1/SW/customocr/crop_image/train_data_75623...        유감\n",
       "756231  /hdd1/SW/customocr/crop_image/train_data_75623...      비오는날\n",
       "\n",
       "[756232 rows x 2 columns]"
      ]
     },
     "execution_count": 15,
     "metadata": {},
     "output_type": "execute_result"
    }
   ],
   "source": [
    "csv_name = \"/hdd1/SW/customocr/open/crop_label.csv\"\n",
    "pd.read_csv(csv_name)"
   ]
  },
  {
   "cell_type": "code",
   "execution_count": 17,
   "metadata": {
    "collapsed": false,
    "jupyter": {
     "outputs_hidden": false
    },
    "pycharm": {
     "name": "#%%\n"
    }
   },
   "outputs": [],
   "source": [
    "pred_csv_path = csv_name\n",
    "pred_csv = pd.read_csv(pred_csv_path)\n",
    "\n",
    "# lmdb 파일을 만들기 위한 txt 파일 저장\n",
    "pred_csv.to_csv('open/train_crop.txt', sep='\\t', header=False, index=False)"
   ]
  },
  {
   "cell_type": "code",
   "execution_count": 18,
   "metadata": {},
   "outputs": [],
   "source": [
    "csv_name = \"/hdd1/SW/customocr/open/train.csv\"\n",
    "# pd.read_csv(csv_name)\n",
    "\n",
    "pred_csv_path = csv_name\n",
    "pred_csv = pd.read_csv(pred_csv_path)\n",
    "\n",
    "# lmdb 파일을 만들기 위한 txt 파일 저장\n",
    "pred_csv.to_csv('open/train.txt', sep='\\t', header=False, index=False)"
   ]
  },
  {
   "cell_type": "code",
   "execution_count": 19,
   "metadata": {
    "pycharm": {
     "name": "#%%\n"
    }
   },
   "outputs": [
    {
     "name": "stdout",
     "output_type": "stream",
     "text": [
      "Written 1000 / 756232\n",
      "Written 2000 / 756232\n",
      "Written 3000 / 756232\n",
      "Written 4000 / 756232\n",
      "Written 5000 / 756232\n",
      "Written 6000 / 756232\n",
      "Written 7000 / 756232\n",
      "Written 8000 / 756232\n",
      "Written 9000 / 756232\n",
      "Written 10000 / 756232\n",
      "Written 11000 / 756232\n",
      "Written 12000 / 756232\n",
      "Written 13000 / 756232\n",
      "Written 14000 / 756232\n",
      "Written 15000 / 756232\n",
      "Written 16000 / 756232\n",
      "Written 17000 / 756232\n",
      "Written 18000 / 756232\n",
      "Written 19000 / 756232\n",
      "Written 20000 / 756232\n",
      "Written 21000 / 756232\n",
      "Written 22000 / 756232\n",
      "Written 23000 / 756232\n",
      "Written 24000 / 756232\n",
      "Written 25000 / 756232\n",
      "Written 26000 / 756232\n",
      "Written 27000 / 756232\n",
      "Written 28000 / 756232\n",
      "Written 29000 / 756232\n",
      "Written 30000 / 756232\n",
      "Written 31000 / 756232\n",
      "Written 32000 / 756232\n",
      "Written 33000 / 756232\n",
      "Written 34000 / 756232\n",
      "Written 35000 / 756232\n",
      "Written 36000 / 756232\n",
      "Written 37000 / 756232\n",
      "Written 38000 / 756232\n",
      "Written 39000 / 756232\n",
      "Written 40000 / 756232\n",
      "Written 41000 / 756232\n",
      "Written 42000 / 756232\n",
      "Written 43000 / 756232\n",
      "Written 44000 / 756232\n",
      "Written 45000 / 756232\n",
      "Written 46000 / 756232\n",
      "Written 47000 / 756232\n",
      "Written 48000 / 756232\n",
      "Written 49000 / 756232\n",
      "Written 50000 / 756232\n",
      "Written 51000 / 756232\n",
      "Written 52000 / 756232\n",
      "Written 53000 / 756232\n",
      "Written 54000 / 756232\n",
      "Written 55000 / 756232\n",
      "Written 56000 / 756232\n",
      "Written 57000 / 756232\n",
      "Written 58000 / 756232\n",
      "Written 59000 / 756232\n",
      "Written 60000 / 756232\n",
      "Written 61000 / 756232\n",
      "Written 62000 / 756232\n",
      "Written 63000 / 756232\n",
      "Written 64000 / 756232\n",
      "Written 65000 / 756232\n",
      "Written 66000 / 756232\n",
      "Written 67000 / 756232\n",
      "Written 68000 / 756232\n",
      "Written 69000 / 756232\n",
      "Written 70000 / 756232\n",
      "Written 71000 / 756232\n",
      "Written 72000 / 756232\n",
      "Written 73000 / 756232\n",
      "Written 74000 / 756232\n",
      "Written 75000 / 756232\n",
      "Written 76000 / 756232\n",
      "Written 77000 / 756232\n",
      "Written 78000 / 756232\n",
      "Written 79000 / 756232\n",
      "Written 80000 / 756232\n",
      "Written 81000 / 756232\n",
      "Written 82000 / 756232\n",
      "Written 83000 / 756232\n",
      "Written 84000 / 756232\n",
      "Written 85000 / 756232\n",
      "Written 86000 / 756232\n",
      "Written 87000 / 756232\n",
      "Written 88000 / 756232\n",
      "Written 89000 / 756232\n",
      "Written 90000 / 756232\n",
      "Written 91000 / 756232\n",
      "Written 92000 / 756232\n",
      "Written 93000 / 756232\n",
      "Written 94000 / 756232\n",
      "Written 95000 / 756232\n",
      "Written 96000 / 756232\n",
      "Written 97000 / 756232\n",
      "Written 98000 / 756232\n",
      "Written 99000 / 756232\n",
      "Written 100000 / 756232\n",
      "Written 101000 / 756232\n",
      "Written 102000 / 756232\n",
      "Written 103000 / 756232\n",
      "Written 104000 / 756232\n",
      "Written 105000 / 756232\n",
      "Written 106000 / 756232\n",
      "Written 107000 / 756232\n",
      "Written 108000 / 756232\n",
      "Written 109000 / 756232\n",
      "Written 110000 / 756232\n",
      "Written 111000 / 756232\n",
      "Written 112000 / 756232\n",
      "Written 113000 / 756232\n",
      "Written 114000 / 756232\n",
      "Written 115000 / 756232\n",
      "Written 116000 / 756232\n",
      "Written 117000 / 756232\n",
      "Written 118000 / 756232\n",
      "Written 119000 / 756232\n",
      "Written 120000 / 756232\n",
      "Written 121000 / 756232\n",
      "Written 122000 / 756232\n",
      "Written 123000 / 756232\n",
      "Written 124000 / 756232\n",
      "Written 125000 / 756232\n",
      "Written 126000 / 756232\n",
      "Written 127000 / 756232\n",
      "Written 128000 / 756232\n",
      "Written 129000 / 756232\n",
      "Written 130000 / 756232\n",
      "Written 131000 / 756232\n",
      "Written 132000 / 756232\n",
      "Written 133000 / 756232\n",
      "Written 134000 / 756232\n",
      "Written 135000 / 756232\n",
      "Written 136000 / 756232\n",
      "Written 137000 / 756232\n",
      "Written 138000 / 756232\n",
      "Written 139000 / 756232\n",
      "Written 140000 / 756232\n",
      "Written 141000 / 756232\n",
      "Written 142000 / 756232\n",
      "Written 143000 / 756232\n",
      "Written 144000 / 756232\n",
      "Written 145000 / 756232\n",
      "Written 146000 / 756232\n",
      "Written 147000 / 756232\n",
      "Written 148000 / 756232\n",
      "Written 149000 / 756232\n",
      "Written 150000 / 756232\n",
      "Written 151000 / 756232\n",
      "Written 152000 / 756232\n",
      "Written 153000 / 756232\n",
      "Written 154000 / 756232\n",
      "Written 155000 / 756232\n",
      "Written 156000 / 756232\n",
      "Written 157000 / 756232\n",
      "Written 158000 / 756232\n",
      "Written 159000 / 756232\n",
      "Written 160000 / 756232\n",
      "Written 161000 / 756232\n",
      "Written 162000 / 756232\n",
      "Written 163000 / 756232\n",
      "Written 164000 / 756232\n",
      "Written 165000 / 756232\n",
      "Written 166000 / 756232\n",
      "Written 167000 / 756232\n",
      "Written 168000 / 756232\n",
      "Written 169000 / 756232\n",
      "Written 170000 / 756232\n",
      "Written 171000 / 756232\n",
      "Written 172000 / 756232\n",
      "Written 173000 / 756232\n",
      "Written 174000 / 756232\n",
      "Written 175000 / 756232\n",
      "Written 176000 / 756232\n",
      "Written 177000 / 756232\n",
      "Written 178000 / 756232\n",
      "Written 179000 / 756232\n",
      "Written 180000 / 756232\n",
      "Written 181000 / 756232\n",
      "Written 182000 / 756232\n",
      "Written 183000 / 756232\n",
      "Written 184000 / 756232\n",
      "Written 185000 / 756232\n",
      "Written 186000 / 756232\n",
      "Written 187000 / 756232\n",
      "Written 188000 / 756232\n",
      "Written 189000 / 756232\n",
      "Written 190000 / 756232\n",
      "Written 191000 / 756232\n",
      "Written 192000 / 756232\n",
      "Written 193000 / 756232\n",
      "Written 194000 / 756232\n"
     ]
    }
   ],
   "source": [
    "# train data lmdb 파일 생성\n",
    "\n",
    "# window\n",
    "# !python ./hallymocr/create_lmdb_dataset.py --inputPath ./open/ --gtFile ./open/train.txt --outputPath ./result/train\n",
    "# # linux\n",
    "!python3 ./hallymocr/create_lmdb_dataset.py --inputPath ./open/ --gtFile ./open/train_crop.txt --outputPath ./result/train -file_size 500"
   ]
  }
 ],
 "metadata": {
  "kernelspec": {
   "display_name": "Python 3.8.13 ('nyh': conda)",
   "language": "python",
   "name": "python3"
  },
  "language_info": {
   "codemirror_mode": {
    "name": "ipython",
    "version": 3
   },
   "file_extension": ".py",
   "mimetype": "text/x-python",
   "name": "python",
   "nbconvert_exporter": "python",
   "pygments_lexer": "ipython3",
   "version": "3.8.13"
  },
  "vscode": {
   "interpreter": {
    "hash": "6294b4ef0e4c52c7a2802844b3dd361f2afc0517f08f729f87f8b6d38982a606"
   }
  }
 },
 "nbformat": 4,
 "nbformat_minor": 4
}
