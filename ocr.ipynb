{
 "cells": [
  {
   "cell_type": "markdown",
   "metadata": {},
   "source": [
    "## OCR 모델을 위한 패키지 설치"
   ]
  },
  {
   "cell_type": "code",
   "execution_count": 1,
   "metadata": {
    "collapsed": false,
    "jupyter": {
     "outputs_hidden": false
    }
   },
   "outputs": [],
   "source": [
    "# # install deep-text-recognition-benchmark dependency\n",
    "# !pip install lmdb pillow torchvision nltk natsort fire"
   ]
  },
  {
   "cell_type": "code",
   "execution_count": 2,
   "metadata": {
    "collapsed": false,
    "jupyter": {
     "outputs_hidden": false
    }
   },
   "outputs": [],
   "source": [
    "# # install TextRecognitionDataGenerator\n",
    "# !pip install trdg seaborn tqdm tensorflow beautifulsoup4"
   ]
  },
  {
   "cell_type": "code",
   "execution_count": 3,
   "metadata": {
    "collapsed": false,
    "jupyter": {
     "outputs_hidden": false
    }
   },
   "outputs": [],
   "source": [
    "# # ocr 리포지토리 클론\n",
    "# !git clone https://github.com/mhseo10/customocr.git"
   ]
  },
  {
   "cell_type": "markdown",
   "metadata": {},
   "source": [
    "## OCR 모델을 위한 데이터 준비"
   ]
  },
  {
   "cell_type": "markdown",
   "metadata": {},
   "source": [
    "### TextRecognitionDataGenerator 데이터 준비"
   ]
  },
  {
   "cell_type": "code",
   "execution_count": 1,
   "metadata": {
    "collapsed": false,
    "jupyter": {
     "outputs_hidden": false
    }
   },
   "outputs": [],
   "source": [
    "import numpy as np\n",
    "\n",
    "# # 이미지로 만들 텍스트 모음\n",
    "# str_ko = '가각간갇갈감갑값갓강갖같갚갛개객걀걔거걱건걷걸검겁것겉게겨격겪견결겹경곁계고곡곤곧골곰곱곳공과관광괜괴굉교구국군굳굴굵굶굽궁권귀귓규균귤그극근글긁금급긋긍기긴길김깅깊까깍깎깐깔깜깝깡깥깨꺼꺾껌껍껏껑께껴꼬꼭꼴꼼꼽꽂꽃꽉꽤꾸꾼꿀꿈뀌끄끈끊끌끓끔끗끝끼낌나낙낚난날낡남납낫낭낮낯낱낳내냄냇냉냐냥너넉넌널넓넘넣네넥넷녀녁년념녕노녹논놀놈농높놓놔뇌뇨누눈눕뉘뉴늄느늑는늘늙능늦늬니닐님다닥닦단닫달닭닮담답닷당닿대댁댐댓더덕던덜덟덤덥덧덩덮데델도독돈돌돕돗동돼되된두둑둘둠둡둥뒤뒷드득든듣들듬듭듯등디딩딪따딱딴딸땀땅때땜떠떡떤떨떻떼또똑뚜뚫뚱뛰뜨뜩뜯뜰뜻띄라락란람랍랑랗래랜램랫략량러럭런럴럼럽럿렁렇레렉렌려력련렬렵령례로록론롬롭롯료루룩룹룻뤄류륙률륭르른름릇릎리릭린림립릿링마막만많말맑맘맙맛망맞맡맣매맥맨맵맺머먹먼멀멈멋멍멎메멘멩며면멸명몇모목몬몰몸몹못몽묘무묵묶문묻물뭄뭇뭐뭘뭣므미민믿밀밉밌및밑바박밖반받발밝밟밤밥방밭배백뱀뱃뱉버번벌범법벗베벤벨벼벽변별볍병볕보복볶본볼봄봇봉뵈뵙부북분불붉붐붓붕붙뷰브븐블비빌빔빗빚빛빠빡빨빵빼뺏뺨뻐뻔뻗뼈뼉뽑뿌뿐쁘쁨사삭산살삶삼삿상새색샌생샤서석섞선설섬섭섯성세섹센셈셋셔션소속손솔솜솟송솥쇄쇠쇼수숙순숟술숨숫숭숲쉬쉰쉽슈스슨슬슴습슷승시식신싣실싫심십싯싱싶싸싹싼쌀쌍쌓써썩썰썹쎄쏘쏟쑤쓰쓴쓸씀씌씨씩씬씹씻아악안앉않알앓암압앗앙앞애액앨야약얀얄얇양얕얗얘어억언얹얻얼엄업없엇엉엊엌엎에엔엘여역연열엷염엽엿영옆예옛오옥온올옮옳옷옹와완왕왜왠외왼요욕용우욱운울움웃웅워원월웨웬위윗유육율으윽은을음응의이익인일읽잃임입잇있잊잎자작잔잖잘잠잡잣장잦재쟁쟤저적전절젊점접젓정젖제젠젯져조족존졸좀좁종좋좌죄주죽준줄줌줍중쥐즈즉즌즐즘증지직진질짐집짓징짙짚짜짝짧째쨌쩌쩍쩐쩔쩜쪽쫓쭈쭉찌찍찢차착찬찮찰참찻창찾채책챔챙처척천철첩첫청체쳐초촉촌촛총촬최추축춘출춤춥춧충취츠측츰층치칙친칠침칫칭카칸칼캄캐캠커컨컬컴컵컷케켓켜코콘콜콤콩쾌쿄쿠퀴크큰클큼키킬타탁탄탈탑탓탕태택탤터턱턴털텅테텍텔템토톤톨톱통퇴투툴툼퉁튀튜트특튼튿틀틈티틱팀팅파팎판팔팝패팩팬퍼퍽페펜펴편펼평폐포폭폰표푸푹풀품풍퓨프플픔피픽필핏핑하학한할함합항해핵핸햄햇행향허헌험헤헬혀현혈협형혜호혹혼홀홈홉홍화확환활황회획횟횡효후훈훌훔훨휘휴흉흐흑흔흘흙흡흥흩희흰히힘'\n",
    "#\n",
    "# l = range(len(str_ko))\n",
    "#\n",
    "# # ko.txt 파일 생성\n",
    "# with open('./ko.txt', 'w', encoding='utf8') as f:\n",
    "#\n",
    "#     # str_ko 에서 1글자, 2글자, 3글자 단위로 무작위 단어 생성\n",
    "#     for s in str_ko:\n",
    "#         f.write(f'{s}\\n')\n",
    "#\n",
    "#         word = \"\"\n",
    "#         for e in range(2):\n",
    "#             i = np.random.choice(range(len(str_ko)), replace=True)\n",
    "#             word += str_ko[i]\n",
    "#\n",
    "#         f.write(word + '\\n')\n",
    "#\n",
    "#         word = \"\"\n",
    "#         for e in range(3):\n",
    "#             i = np.random.choice(range(len(str_ko)), replace=True)\n",
    "#             word += str_ko[i]\n",
    "#\n",
    "#         f.write(word + '\\n')"
   ]
  },
  {
   "cell_type": "code",
   "execution_count": 5,
   "metadata": {
    "collapsed": false,
    "jupyter": {
     "outputs_hidden": false
    }
   },
   "outputs": [],
   "source": [
    "# # 50만장 가로 텍스트 이미지 생성\n",
    "# !trdg -c 500000 -w 4 -f 64 -l ko -e png -na 2 -d 3 -do 2 -k 10 --orientation 0 -bl 3 -r -rk -rbl -fi -fd ./font/ -dt ./ko.txt --output_dir ./word_h/ -t 8"
   ]
  },
  {
   "cell_type": "code",
   "execution_count": 6,
   "metadata": {
    "collapsed": false,
    "jupyter": {
     "outputs_hidden": false
    }
   },
   "outputs": [],
   "source": [
    "# # 50만장 세로 텍스트 이미지 생성\n",
    "# !trdg -c 500000 -w 2 -f 64 -l ko -e png -na 2 -d 3 -do 2 -k 10 --orientation 1 -bl 3 -r -rk -rbl -fi -fd ./font/ -dt ./ko.txt --output_dir ./word_v/ -t 8"
   ]
  },
  {
   "cell_type": "code",
   "execution_count": 1,
   "metadata": {
    "collapsed": false,
    "jupyter": {
     "outputs_hidden": false
    }
   },
   "outputs": [],
   "source": [
    "# # 생성한 이미지를 lmdb 데이터로 만들기 위한 gt 파일 생성\n",
    "h_label = './word_h/'\n",
    "v_label = './word_v/'\n",
    "\n",
    "with open(f'{h_label}labels.txt', 'r', encoding='utf8') as f:\n",
    "    with open(f'{h_label}train.txt', 'w', encoding='utf8') as d:\n",
    "        for i in f.readlines():\n",
    "            a = i.replace(' ', '\\t', 1)\n",
    "            d.write(a)\n",
    "\n",
    "with open(f'{v_label}labels.txt', 'r', encoding='utf8') as f:\n",
    "    with open(f'{v_label}train.txt', 'w', encoding='utf8') as d:\n",
    "        for i in f.readlines():\n",
    "            a = i.replace(' ', '\\t', 1)\n",
    "            d.write(a)"
   ]
  },
  {
   "cell_type": "code",
   "execution_count": 3,
   "metadata": {},
   "outputs": [
    {
     "name": "stdout",
     "output_type": "stream",
     "text": [
      "['0.png\\t샌 왜애 및올첩 셔드벨\\n', '1.png\\t매찍 장씻 반걱야\\n', '2.png\\t동땅뉴 종 명 볼협\\n', '3.png\\t편럴윗 략협\\n', '4.png\\t퍼 펴 흰\\n', '5.png\\t발 굳머연\\n', '6.png\\t콜쌓 젠률 겹민뀌 렌밥마\\n', '7.png\\t떨 옹쉬딴 른놈\\n', '8.png\\t굴\\n', '9.png\\t넣옥객 블둠견\\n', '10.png\\t핑첫뺨 옆홀 착웬\\n', '11.png\\t슬 끼처\\n', '12.png\\t큰뭐 메 코 느석\\n', '13.png\\t닮 빗쎄 타크 령\\n', '14.png\\t눕 젊텍 컬손\\n', '15.png\\t업욕삶 곡 팩\\n', '16.png\\t책할 밑막넓\\n', '17.png\\t굳머연\\n', '18.png\\t벨으홍 니칼어\\n', '19.png\\t돌 펴봇카\\n', '20.png\\t으침\\n', '21.png\\t흔얀 쏟댐탕 캄\\n', '22.png\\t복 측윽 뚱뷰도 식\\n', '23.png\\t맵 째\\n', '24.png\\t젯우준 낭쑤 끗식홈 을\\n', '25.png\\t맨쭉 침\\n', '26.png\\t츠각 떠\\n', '27.png\\t뱃동획 켓만높 렁\\n', '28.png\\t맞설\\n', '29.png\\t직 확\\n', '30.png\\t강 빼훌러\\n', '31.png\\t식 끄캐 잎빌롭 럿것\\n', '32.png\\t퉁엘저 유 붕디홍 톨후\\n', '33.png\\t봄괜 략협 짧파초 허레\\n', '34.png\\t호 냥클 디턴덧\\n', '35.png\\t곳낫아 총찻 잇띄\\n', '36.png\\t공 섹직책 박둠쓰 룩협\\n', '37.png\\t응깅\\n', '38.png\\t함\\n', '39.png\\t녀걷싹 흰악 엌헌덟 대내\\n', '40.png\\t무딪패\\n', '41.png\\t낮침 모서티 클느\\n', '42.png\\t손률\\n', '43.png\\t빌아 싱양념 홈멀 믿묻한\\n', '44.png\\t홈멀 와\\n', '45.png\\t즐 델깎 춤씀 싱휴능\\n', '46.png\\t둠뵙 입 냐뜰죄\\n', '47.png\\t숫둠엌 풍뱀컵 살도각\\n', '48.png\\t칠 릭향특 밥촉중\\n', '49.png\\t익국겁\\n', '50.png\\t므\\n', '51.png\\t짧 큰술훔 뉘 텔남여\\n', '52.png\\t왼응빌\\n', '53.png\\t묶축 따흘항\\n', '54.png\\t집책 규합흑\\n', '55.png\\t수몬 훨횟젊 잡 빗곤\\n', '56.png\\t굵셔 셈 퇴형헌\\n', '57.png\\t똑푹 엎층\\n', '58.png\\t렇\\n', '59.png\\t순 야깡 택\\n', '60.png\\t쏘\\n', '61.png\\t컴같 밌울 실뺏늦\\n', '62.png\\t끝델 칙초끊 닐촌층\\n', '63.png\\t못죄 덟절집 뺨갇 탤탁덧\\n', '64.png\\t짐 왠\\n', '65.png\\t츠뇌많\\n', '66.png\\t쑤갚타 묶풀람\\n', '67.png\\t료 보모깅 희축섬 횟\\n', '68.png\\t핸\\n', '69.png\\t설 먹 숨륭 톨번쏘\\n', '70.png\\t깝접님 짐식싼\\n', '71.png\\t페립 빵섞 얄륭 겨\\n', '72.png\\t행뭐 검 너\\n', '73.png\\t붐넌 하 잡옷흥\\n', '74.png\\t햄릎 뜰 순겹 오\\n', '75.png\\t수뉴 몬쳐 설얻\\n', '76.png\\t뭄음 귀트 껴경숙\\n', '77.png\\t핸짓 몽 섭별\\n', '78.png\\t질텍\\n', '79.png\\t쩜규\\n', '80.png\\t낡\\n', '81.png\\t렌큰된 탤 자잘 내\\n', '82.png\\t뭄 옛 쉽 주룻\\n', '83.png\\t찻동난 얀네훔 묘\\n', '84.png\\t뻐계 완 험쟁뜨\\n', '85.png\\t쑤\\n', '86.png\\t랫옮 턴꾸숫\\n', '87.png\\t녀걷싹 및츠 붓뭘 퍽캐렇\\n', '88.png\\t다탓\\n', '89.png\\t규성 핏\\n', '90.png\\t조\\n', '91.png\\t짝 붕 릭등능\\n', '92.png\\t온승 씩결함 셋송 채늬\\n', '93.png\\t옳춧 일\\n', '94.png\\t돌쩍고 섞첩잎 뭘탓\\n', '95.png\\t부펴달 만 티 뜨\\n', '96.png\\t운효뭐 훌 놓약 출토엊\\n', '97.png\\t캄포데\\n', '98.png\\t저넓튀 빨\\n', '99.png\\t금등울 숨륭 셋쌍 잘\\n', '100.png\\t업 슴랜\\n', '101.png\\t셋농 꼴춤잘\\n', '102.png\\t쟁 흡 깊뜯 몸\\n', '103.png\\t옛월둑 뒷 랍\\n', '104.png\\t팬머맘\\n', '105.png\\t태홉추 봉렬쭉\\n', '106.png\\t뉘산팎\\n', '107.png\\t외현싣 빌 위꼭캄\\n', '108.png\\t돗 귓릭 브쑤손\\n', '109.png\\t뚱주 타못멸\\n', '110.png\\t텔\\n', '111.png\\t싼산싱 홀앙\\n', '112.png\\t울렬낌 영쁘싣\\n', '113.png\\t낙 허레\\n', '114.png\\t자잘 춤 돈걔꺼\\n', '115.png\\t싶완밉\\n', '116.png\\t얄륭\\n', '117.png\\t펴 운효뭐 전늦돌\\n', '118.png\\t틀암두 묘륭 녁망럼 츰져\\n', '119.png\\t떤 전팀 깜픽태 갓막\\n', '120.png\\t국측뭘\\n', '121.png\\t슷챙\\n', '122.png\\t협좋섬 쩜뵈\\n', '123.png\\t짓끌 승쨌볼 엇큰덮 엇층\\n', '124.png\\t춤씀\\n', '125.png\\t곳낫아 쇠 쟁\\n', '126.png\\t얄\\n', '127.png\\t분멀즌\\n', '128.png\\t호\\n', '129.png\\t럼\\n', '130.png\\t흥 촉 갓색퀴 잣\\n', '131.png\\t쑤갚타\\n', '132.png\\t녀도태 당\\n', '133.png\\t갚\\n', '134.png\\t홈꿈앞 글밑\\n', '135.png\\t롬랜 밀닐옛 엌잎\\n', '136.png\\t든첩\\n', '137.png\\t덤을\\n', '138.png\\t얄 설얻\\n', '139.png\\t념 쓴 루식\\n', '140.png\\t멸깎 엄창빼 워 씩\\n', '141.png\\t랗떨코 잊옥뜨\\n', '142.png\\t핑좀 떼 땅\\n', '143.png\\t육 꼼 해깝\\n', '144.png\\t주균 례쩐 붙위낮\\n', '145.png\\t개별 및관파 빡\\n', '146.png\\t땀윗 분 캠곱 걔\\n', '147.png\\t잖당 물셔셈 금\\n', '148.png\\t첫슨 글밑\\n', '149.png\\t술끼뼉 않뵙늘 착거빡\\n', '150.png\\t터\\n', '151.png\\t마쓴 손률 전놓\\n', '152.png\\t크벗인 키셋캐\\n', '153.png\\t싱동 콘컨 클느\\n', '154.png\\t샤\\n', '155.png\\t싹 캄\\n', '156.png\\t폭돌찻 릭등능 씨 띄벤\\n', '157.png\\t콜\\n', '158.png\\t둡갇\\n', '159.png\\t설랜휴\\n', '160.png\\t낌깊 얼줌 추주\\n', '161.png\\t쭈쉽이\\n', '162.png\\t맺 럼엉펜 끗식홈\\n', '163.png\\t탄\\n', '164.png\\t너 쩔맛쏘 어푹뼈 봄\\n', '165.png\\t빼격 위꼭캄 휘급낡\\n', '166.png\\t청경\\n', '167.png\\t버꼴맡 뚜공\\n', '168.png\\t껴국\\n', '169.png\\t측긍변 쟤중 벗상\\n', '170.png\\t룩\\n', '171.png\\t핏녁 척앙챔 징학\\n', '172.png\\t튜맞구 빗 백\\n', '173.png\\t폐\\n', '174.png\\t퍼사셈 분운 쎄\\n', '175.png\\t하갇 밝솥콘 욕\\n', '176.png\\t휴두집 쟤중 탑올 정꿀숲\\n', '177.png\\t변본순 뭣찢틱 낯람 씩결함\\n', '178.png\\t열숲 쓴걸\\n', '179.png\\t템 촉\\n', '180.png\\t위꼭캄 잔덤 볼협 일\\n', '181.png\\t뵙 있파빨 끝델 또끊\\n', '182.png\\t챙 짐놈 타크\\n', '183.png\\t럭짙\\n', '184.png\\t낯 때\\n', '185.png\\t베플레\\n', '186.png\\t쏘뿌울 갓막\\n', '187.png\\t쿠탕 빠 쉰골 펴\\n', '188.png\\t법캐참 참판\\n', '189.png\\t퍽 황 꿀꿀\\n', '190.png\\t셔길 멎 두도막\\n', '191.png\\t금 숨\\n', '192.png\\t짧낫 작넌잎 볼섭계\\n', '193.png\\t방낚답 거달 닐촌층 택둡\\n', '194.png\\t겉\\n', '195.png\\t영 넣옥객\\n', '196.png\\t뱀튼\\n', '197.png\\t벽 운꽉쿄 넉쁨 줄징\\n', '198.png\\t컵좀 읽슴 징 샤의돗\\n', '199.png\\t휘급낡\\n', '200.png\\t붉\\n', '201.png\\t깥깡떠 쓸\\n', '202.png\\t경겁껑\\n', '203.png\\t반걱야 현\\n', '204.png\\t만오 휘문 쌀행\\n', '205.png\\t팩션역 카찢둡 상티\\n', '206.png\\t깅 엘뱀 림셔덧 쩔글둘\\n', '207.png\\t무\\n', '208.png\\t레몇홍 흥 익억\\n', '209.png\\t태찻깝\\n', '210.png\\t긍칼 족뭣 철\\n', '211.png\\t증 음닮잃 중곧청 썹\\n', '212.png\\t쓸 논 흡꼭 탄왕조\\n', '213.png\\t톱갚담 늙곁횟\\n', '214.png\\t슨쁨되 런빡 셋쌍 헤편냉\\n', '215.png\\t년채 쌀행 낳 족암\\n', '216.png\\t밀곱형\\n', '217.png\\t신꾸갑 절쿠한 샤찮\\n', '218.png\\t컵\\n', '219.png\\t밭엔탄 잔 등끈란\\n', '220.png\\t급률능 긋 랗떨코\\n', '221.png\\t탕박좌\\n', '222.png\\t좀으숙\\n', '223.png\\t뒤튀뿐 쉰볍쭈 적\\n', '224.png\\t샤의돗 든긁닿 썹잡\\n', '225.png\\t떤일쎄 니\\n', '226.png\\t아슬낮\\n', '227.png\\t켓만높\\n', '228.png\\t개폭 길견 낮뉴붐\\n', '229.png\\t깎콘웅\\n', '230.png\\t퀴엄어 컨땅 머벗 딩전\\n', '231.png\\t롬랜\\n', '232.png\\t섬통갓\\n', '233.png\\t꽂맺죽\\n', '234.png\\t와군 현잣숨 흐장긋 세\\n', '235.png\\t솥히 게 쉰엘냐\\n', '236.png\\t흐장긋 낮\\n', '237.png\\t촛쇄토 뉘릇료 밀여저 솔쏘\\n', '238.png\\t럽낱성\\n', '239.png\\t얕 머벗 루뼈팩 양칠\\n', '240.png\\t뤄 묵줍빼\\n', '241.png\\t맞\\n', '242.png\\t쉬 곳몹깊 왠 갛\\n', '243.png\\t마 험존녹 듯손 뵙훨배\\n', '244.png\\t밉구 걔\\n', '245.png\\t님시싶\\n', '246.png\\t멍꼽뭄 균량 콘컨\\n', '247.png\\t묵 뤄글 동팬겹 본뜻센\\n', '248.png\\t꽂 클듭\\n', '249.png\\t렬 춘배 습\\n', '250.png\\t낮침 난 옛월둑 고불증\\n', '251.png\\t근울덩 교포의 칙 턱카뻗\\n', '252.png\\t탈\\n', '253.png\\t쓴걸 렵최\\n', '254.png\\t깡열\\n', '255.png\\t각\\n', '256.png\\t캄 참럴\\n', '257.png\\t왜애 늬\\n', '258.png\\t엽값살 냐맡뵙 논해비 잇띄\\n', '259.png\\t맞\\n', '260.png\\t브위다\\n', '261.png\\t춥팅쾌 렌 항떡\\n', '262.png\\t닭씬잎\\n', '263.png\\t량북 측다백 붐넌 타크\\n', '264.png\\t셈\\n', '265.png\\t덧 일쟤\\n', '266.png\\t잣찻란 솔쏘 곤변 고\\n', '267.png\\t뜨닷또 뵙쪽 병\\n', '268.png\\t쓴흔 넉 펴쩔앞\\n', '269.png\\t탄왕조 배렁 갚겉떤 하갇\\n', '270.png\\t총튜 묶열놔\\n', '271.png\\t뱀 추얗 짙발\\n', '272.png\\t력망쾌 춧뱀토\\n', '273.png\\t뜨숟난\\n', '274.png\\t위 쇄녹 뤄키 엇쉽\\n', '275.png\\t중젊덥\\n', '276.png\\t봄찻톨 계 측다백\\n', '277.png\\t봇반\\n', '278.png\\t요동캄\\n', '279.png\\t쓴 함 글 델쪽\\n', '280.png\\t라류\\n', '281.png\\t맘 둠뺏파 밥 깝\\n', '282.png\\t기 칼\\n', '283.png\\t월 링 년 더\\n', '284.png\\t퉁뭣권 오윗꾼\\n', '285.png\\t꽤 알섞뉘\\n', '286.png\\t둥 헤꺾돌 섞첩잎\\n', '287.png\\t우봄 벤렬붓 묘륭\\n', '288.png\\t붓총 것환게 렵 망육투\\n', '289.png\\t딱삶 짐놈\\n', '290.png\\t콜원쨌 광 모\\n', '291.png\\t뭐덕 뚱주 압내현\\n', '292.png\\t로낌 된력퉁 뼉 깅퓨험\\n', '293.png\\t첫 싹 메\\n', '294.png\\t꺾딴\\n', '295.png\\t슨쁨되 잇쉽양 브김모 산송\\n', '296.png\\t뷰흩\\n', '297.png\\t냐맡뵙 멎 건셋 또붕쩜\\n', '298.png\\t까굵 횡 패술 않트\\n', '299.png\\t날\\n', '300.png\\t낱\\n', '301.png\\t흘힘살 나밀 자잘\\n', '302.png\\t응깅 골\\n', '303.png\\t영\\n', '304.png\\t뺏 살도각\\n', '305.png\\t싶 랗 칸 얘\\n', '306.png\\t응내 히픽\\n', '307.png\\t않뵙늘 엇큰덮\\n', '308.png\\t츠\\n', '309.png\\t횡짙넉\\n', '310.png\\t춘끈\\n', '311.png\\t안퍼 끝릇랍 껴 중레\\n', '312.png\\t땜 콩왠 편 네추채\\n', '313.png\\t멎릭언\\n', '314.png\\t왼 락묻 북적\\n', '315.png\\t옳 께 갚누 닭\\n', '316.png\\t줌안\\n', '317.png\\t얕리 걸퀴\\n', '318.png\\t솜점갇 델쪽 락\\n', '319.png\\t광볍돕 잣하 채집끝\\n', '320.png\\t단 밝옹\\n', '321.png\\t굉 헤꺾돌\\n', '322.png\\t춤셋 붉븐득 타크 다탓\\n', '323.png\\t헌 꽤찌웅 버\\n', '324.png\\t쎄짓 앞티맑 물셔셈\\n', '325.png\\t맘 태홉추 친 둡\\n', '326.png\\t샌\\n', '327.png\\t날앗밖 닷\\n', '328.png\\t녁 컷\\n', '329.png\\t몽핑 납측어\\n', '330.png\\t낯볶차\\n', '331.png\\t끈슷남 커\\n', '332.png\\t봄괜 빡면\\n', '333.png\\t톨번쏘 항 캠높 접색\\n', '334.png\\t잡 삶좌퍽\\n', '335.png\\t탕둠릭\\n', '336.png\\t총 땀 험쟁뜨 웨설웬\\n', '337.png\\t탈스 숲\\n', '338.png\\t립 중메\\n', '339.png\\t너\\n', '340.png\\t늬작 팔 적\\n', '341.png\\t해뉴린 껴꾸\\n', '342.png\\t돈 관 뿌는롭 렉\\n', '343.png\\t꿀 뚫 맨\\n', '344.png\\t업욕삶 수몬 까\\n', '345.png\\t맞트 림\\n', '346.png\\t돗 던갑푹 걱\\n', '347.png\\t삭\\n', '348.png\\t제뭘계 떻렁 껑 녕할집\\n', '349.png\\t록 얘시장 고만즐 둡갇\\n', '350.png\\t플숙\\n', '351.png\\t민둠좌 투 쿠할밟\\n', '352.png\\t덩왠 책할 옹눈\\n', '353.png\\t붐 학굳 올려멍\\n', '354.png\\t총 앉 많콩\\n', '355.png\\t에집 온 양현\\n', '356.png\\t뭄음 윗뱃 핵브영 짜킬\\n', '357.png\\t목탑웨\\n', '358.png\\t늬뿐\\n', '359.png\\t환 슈\\n', '360.png\\t뉴협잎 찬 념형껍 톨번쏘\\n', '361.png\\t몸 꼬민\\n', '362.png\\t월벨얼\\n', '363.png\\t는탤랑 모업\\n', '364.png\\t급쩌덟 콩 멎릭언 뀌준꽂\\n', '365.png\\t때크 갓색퀴 성컴묵 녀\\n', '366.png\\t콤압평\\n', '367.png\\t산마춘 싱상 및올첩 놓덕\\n', '368.png\\t냐퍽날 장씻 낱누네 및맨\\n', '369.png\\t멘솔 이찬육\\n', '370.png\\t빌봉 쌓얹 뭣찢틱 얻페섭\\n', '371.png\\t걸깜능\\n', '372.png\\t퓨럭 그철\\n', '373.png\\t형드\\n', '374.png\\t쟁옷즐 햇척 럿것\\n', '375.png\\t낙 참\\n', '376.png\\t긴 캠곱\\n', '377.png\\t향쇼측 벤패\\n', '378.png\\t몰 든긁닿 알 픔빡\\n', '379.png\\t봄괜 앙배덜 왜애 팝날\\n', '380.png\\t원낭 획 컵넉 벤달셈\\n', '381.png\\t잖승 호 끓\\n', '382.png\\t목븐\\n', '383.png\\t쭈쉽이 줍 늬북처\\n', '384.png\\t언꿀잎 베 서방\\n', '385.png\\t흘징 꼬\\n', '386.png\\t길포씨 히돈 봇던 분멀즌\\n', '387.png\\t잊 머 엉뻐낙 짓끌\\n', '388.png\\t금등울 껴경숙 의멩 토\\n', '389.png\\t파봉껴\\n', '390.png\\t번꼭 덮돗편\\n', '391.png\\t폰 목븐 뼈앞 훈깍바\\n', '392.png\\t루뼈팩 빡\\n', '393.png\\t긍 깍큰 닐촌층\\n', '394.png\\t간\\n', '395.png\\t볶넥숟 굽샌어 헤꺾돌\\n', '396.png\\t퍽쌀내 웅쓴\\n', '397.png\\t겪을뉴 월본 피 움즈\\n', '398.png\\t란빨 흥번징 롬\\n', '399.png\\t떠 활끼 례갖\\n', '400.png\\t언꿀잎 율녁 족뭣\\n', '401.png\\t빡쁘에 랑좀싶 녀도태 보모깅\\n', '402.png\\t벤\\n', '403.png\\t드붕 헤\\n', '404.png\\t줌안 낮 쾌늦\\n', '405.png\\t첩즌 셋광 끄캐 몬싹\\n', '406.png\\t곤변\\n', '407.png\\t튜십 인쁘맥\\n', '408.png\\t남 및관파 활끼\\n', '409.png\\t멀 밌뉘 흔얀 긍칼\\n', '410.png\\t쟤하 씹탑맨 란\\n', '411.png\\t엉뻐낙\\n', '412.png\\t현\\n', '413.png\\t밭휴\\n', '414.png\\t길견 잡 년채\\n', '415.png\\t발숟반 뒷 녀도태\\n', '416.png\\t체레울 늬 찌 춤씀\\n', '417.png\\t촬뵈할\\n', '418.png\\t섹직책 켓만높 빼골\\n', '419.png\\t릇돈 볕\\n', '420.png\\t탄\\n', '421.png\\t씩칸인 뚫 는탤랑 규낳검\\n', '422.png\\t흥굉 누\\n', '423.png\\t닐삼연 위\\n', '424.png\\t날\\n', '425.png\\t뼈갇둥 뻐계 랑 쌓\\n', '426.png\\t츰 컨\\n', '427.png\\t쇼 박앉옥\\n', '428.png\\t글찾낡 귀트\\n', '429.png\\t센콤 쩌부뽑\\n', '430.png\\t묘\\n', '431.png\\t켜 한 실쩌뇨\\n', '432.png\\t빌컷놈 맞댐 높\\n', '433.png\\t구\\n', '434.png\\t멩 넓 편 겹숲닫\\n', '435.png\\t걔당벼 깍클파 족뭣\\n', '436.png\\t계\\n', '437.png\\t묶열놔 윗 도 경\\n', '438.png\\t꿈\\n', '439.png\\t싣뻗 꾸 미\\n', '440.png\\t싣\\n', '441.png\\t쉰 컨땅 시켓착 봄\\n', '442.png\\t야뒤리\\n', '443.png\\t엇큰덮\\n', '444.png\\t슬닭추\\n', '445.png\\t갓막 련촌쓰\\n', '446.png\\t억\\n', '447.png\\t강 갚싣 젠흔깎\\n', '448.png\\t칙햄간\\n', '449.png\\t베름 째며랍\\n', '450.png\\t니 맥 귓족힘 벤패\\n', '451.png\\t료완쩜 료 력죽\\n', '452.png\\t타못멸 란얼엽 밟\\n', '453.png\\t뺨뇨밥\\n', '454.png\\t듯멩잣\\n', '455.png\\t춤촉 애 왕확육 연즌\\n', '456.png\\t발날강 널컴\\n', '457.png\\t딸횟 둘 개 뉘산팎\\n', '458.png\\t늘깜\\n', '459.png\\t긁뿐\\n', '460.png\\t늙하솔\\n', '461.png\\t팬석\\n', '462.png\\t커직 철저 컬쓸\\n', '463.png\\t왕\\n', '464.png\\t정꿀숲 밀여저 놓약 난팔촬\\n', '465.png\\t끄캐 론테끊 괜\\n', '466.png\\t란얼엽\\n', '467.png\\t긴\\n', '468.png\\t흔즐 뜩 숫 희\\n', '469.png\\t칸황\\n', '470.png\\t듯벼 팔끈 뇌줍병 작\\n', '471.png\\t셈\\n', '472.png\\t굉컷 뻔듬\\n', '473.png\\t쟤댐 슬 엎층\\n', '474.png\\t페태\\n', '475.png\\t중메 몸빌\\n', '476.png\\t밑꼽 숟습 칼션렬\\n', '477.png\\t섯팩 곳 걔당벼\\n', '478.png\\t율깔\\n', '479.png\\t료완쩜 날녹 즉몽 엌잎\\n', '480.png\\t덤\\n', '481.png\\t숭 던갑푹 자 탤쩌\\n', '482.png\\t돌 및 땅밟\\n', '483.png\\t괜빵붙 던\\n', '484.png\\t혹찍곁\\n', '485.png\\t넥흥\\n', '486.png\\t횡휴 업 패\\n', '487.png\\t쨌잘 엔습걀\\n', '488.png\\t잡\\n', '489.png\\t섯 딸\\n', '490.png\\t새홈만 곱떡 뇌줍병\\n', '491.png\\t공약눕 히초 험쟁뜨 잣뉘\\n', '492.png\\t행뭐 모서티 인맺\\n', '493.png\\t척 할\\n', '494.png\\t모서티 잦븐\\n', '495.png\\t엇층\\n', '496.png\\t싱양념 솜 괜 쎄채도\\n', '497.png\\t족뭣\\n', '498.png\\t쩔글둘 루뼈팩 딴 걱뻔보\\n', '499.png\\t료\\n', '500.png\\t위복륭 꼬절둠 릭\\n', '501.png\\t엔\\n', '502.png\\t강돼냉\\n', '503.png\\t딪\\n', '504.png\\t운 탕예\\n', '505.png\\t퉁깅셋 흔즐\\n', '506.png\\t잡옷흥\\n', '507.png\\t않첩구 깐심\\n', '508.png\\t벽황쥐 벗개\\n', '509.png\\t넓\\n', '510.png\\t감 운설 칫\\n', '511.png\\t팩둘 궁 겹 뜨쥐혼\\n', '512.png\\t깡콤 삭묶학 횡\\n', '513.png\\t탁쿄분 님앗란\\n', '514.png\\t끝장퇴 순겹 내럼끼 새\\n', '515.png\\t밀즉\\n', '516.png\\t템꿈퍽 땅디 렵싱큰 략협\\n', '517.png\\t굵 철저 및올첩 좁낮볼\\n', '518.png\\t여 놀 식퉁 찰\\n', '519.png\\t몬쳐 벤달셈 물셔셈 업욕삶\\n', '520.png\\t벌\\n', '521.png\\t세굶누\\n', '522.png\\t촬뵈할\\n', '523.png\\t펜 쩍녁싫 닦잖씹\\n', '524.png\\t색팀 구 젊텍\\n', '525.png\\t읽 뜩\\n', '526.png\\t걸퀴 답싼 핏닐책\\n', '527.png\\t묘싶\\n', '528.png\\t답굳 튜 입브\\n', '529.png\\t찮 난팔촬 줄히\\n', '530.png\\t맞설 홉\\n', '531.png\\t얗즐형 줍\\n', '532.png\\t엇큰덮\\n', '533.png\\t굽샌어 좌혼\\n', '534.png\\t잃 늦 활끼 뤄\\n', '535.png\\t류뜻숫 울 첩각 백\\n', '536.png\\t외 엘 티햇살 숭량\\n', '537.png\\t숭갑 춧뱀토 돼넣\\n', '538.png\\t프\\n', '539.png\\t플포떨\\n', '540.png\\t뒤뿐 배렁 슬닭추\\n', '541.png\\t펴놀\\n', '542.png\\t겪을뉴 륭 일쟤 맛\\n', '543.png\\t끝장퇴 딴반\\n', '544.png\\t카 른 밀 자콩\\n', '545.png\\t컵넉 름빨 궁투\\n', '546.png\\t곳낫아 멋랫알 댓잎 있파빨\\n', '547.png\\t숫측꼽\\n', '548.png\\t얕리 엌잎 경\\n', '549.png\\t례갖 행비밀\\n', '550.png\\t뭐 재쓰\\n', '551.png\\t용퓨친\\n', '552.png\\t앞렬에 팬실붓 찢황식 벨떻란\\n', '553.png\\t듭\\n', '554.png\\t믿폰엌 곳낫아 엔습걀\\n', '555.png\\t헬거징 군 구응굳\\n', '556.png\\t틈 티햇살 잔쉽\\n', '557.png\\t량출타\\n', '558.png\\t픽\\n', '559.png\\t쪽교뛰 닦충급\\n', '560.png\\t껴홈 홈멀\\n', '561.png\\t뜰 잃숙 맙츠\\n', '562.png\\t원벤\\n', '563.png\\t짧파초 겨커 돌\\n', '564.png\\t날앗밖 쇠 닦훨 타\\n', '565.png\\t실뺏늦 찰 해까 휴두집\\n', '566.png\\t뼈껏초 몬굴싱\\n', '567.png\\t닭\\n', '568.png\\t내럼끼 쓸멘\\n', '569.png\\t따 몬쳐 우 꼭\\n', '570.png\\t틀슨끗 챙왼 머훨 젓\\n', '571.png\\t핏닐책\\n', '572.png\\t듯튜록 녁섭줌 캠곱\\n', '573.png\\t든류\\n', '574.png\\t네추채 략욱 냐잠꼽\\n', '575.png\\t즉몽\\n', '576.png\\t건깨듭\\n', '577.png\\t운 끌쿠 휘랗표 싣\\n', '578.png\\t묶축 격식 옹눈\\n', '579.png\\t올 섯 껴럼엽\\n', '580.png\\t숫둠엌 혀\\n', '581.png\\t멘 싸뻐햇\\n', '582.png\\t쁨\\n', '583.png\\t비 쭈쉽이 뜨숟난\\n', '584.png\\t씨 손률 앨 난존\\n', '585.png\\t걸퀴 캄훈 정\\n', '586.png\\t겁\\n', '587.png\\t얻페섭 엎 에점 빵섞\\n', '588.png\\t현뚫 빌켜컷\\n', '589.png\\t푸릿뼈 두씌 컵씹탤 좋둥떼\\n', '590.png\\t귓\\n', '591.png\\t촉\\n', '592.png\\t저 엇\\n', '593.png\\t틀암두 춧\\n', '594.png\\t슬밌국 따흘항\\n', '595.png\\t올려멍\\n', '596.png\\t공약눕 숨\\n', '597.png\\t년 태찻깝\\n', '598.png\\t쩍녁싫\\n', '599.png\\t명꾼 밟 렉또\\n', '600.png\\t껴럼엽 윽냄\\n', '601.png\\t세굶누 끌쿠\\n', '602.png\\t실 순겹 얄흰 볶검구\\n', '603.png\\t음닮잃 키셋캐 균뱃\\n', '604.png\\t효강 컷인표 광볍돕\\n', '605.png\\t윗뱃 종\\n', '606.png\\t펜 튿람니 냐웬빛\\n', '607.png\\t붓총 뉴앉칸\\n', '608.png\\t효강 압언 튜획날 너잇렇\\n', '609.png\\t출꾸찌 궁\\n', '610.png\\t퍽쌀내 굴겁 금 둡갇\\n', '611.png\\t측컬블 빠험배 챔 숭갑\\n', '612.png\\t흉층\\n', '613.png\\t딱삶\\n', '614.png\\t붕객구 셔길 잇쉽양 운설\\n', '615.png\\t떻싯 묶열놔 햄물등\\n', '616.png\\t말효\\n', '617.png\\t야 얼색 님쓸 낯넌포\\n', '618.png\\t산 꽉 른\\n', '619.png\\t계섞 연쾌 쌓\\n', '620.png\\t순 뛰\\n', '621.png\\t오윗꾼 캠로\\n', '622.png\\t운꽉쿄 근립 협좋섬 잊\\n', '623.png\\t딩전 댓두 둡갇\\n', '624.png\\t획\\n', '625.png\\t딱 채집끝\\n', '626.png\\t햄물등 펴놀 딴반 집책\\n', '627.png\\t베플레\\n', '628.png\\t뉘릇료\\n', '629.png\\t는 잇 싱휴능 재쓰\\n', '630.png\\t블례 쟤\\n', '631.png\\t잇률밟 퇴능 련영\\n', '632.png\\t겹민뀌 팔끈 냉 더메\\n', '633.png\\t좋손 채넷 용멎흐 희축섬\\n', '634.png\\t앗 뛰\\n', '635.png\\t운꽉쿄\\n', '636.png\\t삭줌 묶작\\n', '637.png\\t젯엎\\n', '638.png\\t몸크쉬 댓두\\n', '639.png\\t뻗섹판 늑네 핑뚜작 실\\n', '640.png\\t믿묻한 대 듣홈럽 뻔낯\\n', '641.png\\t핏녁\\n', '642.png\\t밑꼽 뤄\\n', '643.png\\t의멩 못 텔떻 엘\\n', '644.png\\t습심\\n', '645.png\\t느석 차빵짓 십케낳 비\\n', '646.png\\t듭 협좋섬\\n', '647.png\\t홀앙 뇌붐 쫓\\n', '648.png\\t밖른 싼탁 덟움칼\\n', '649.png\\t맨섞굴\\n', '650.png\\t밝 국\\n', '651.png\\t셈덟밤 긁꽃끊 깊숭\\n', '652.png\\t급률능\\n', '653.png\\t싫닮끔 얀네훔 듯손 륙\\n', '654.png\\t림만되 훨뉘 알토 운설\\n', '655.png\\t팝 핸퇴 탄왕조 즈\\n', '656.png\\t매찍 톤 약뭇퇴\\n', '657.png\\t쿄\\n', '658.png\\t잃후게 씹똑 몸빌 줍볼\\n', '659.png\\t녹뻗쥐\\n', '660.png\\t봄\\n', '661.png\\t뼈갇둥 임\\n', '662.png\\t황 웃더 뇌붐\\n', '663.png\\t슴랜 슬닭추 쾌늦 빠털바\\n', '664.png\\t충럼랍 팩끈 험 빔잠위\\n', '665.png\\t덜뭘 쟤하\\n', '666.png\\t율냉 깡 밀\\n', '667.png\\t율\\n', '668.png\\t밤\\n', '669.png\\t햇블 머 밌한\\n', '670.png\\t솔 임뵙 콤\\n', '671.png\\t쉬 젖 앞\\n', '672.png\\t맞댐\\n', '673.png\\t월본 극 우 짚\\n', '674.png\\t들빨혈 넓\\n', '675.png\\t맑 벗개 잃빔 뭇\\n', '676.png\\t옥 틈 본\\n', '677.png\\t락 얻페섭 찾템 돼석곱\\n', '678.png\\t챙걔뻗 깎콘웅 냐맡뵙\\n', '679.png\\t뻔 잊 티희 량\\n', '680.png\\t굳\\n', '681.png\\t몇늦 싸뻐햇\\n', '682.png\\t달 끝장퇴\\n', '683.png\\t깡\\n', '684.png\\t겪든귀 틱 왜 존낡\\n', '685.png\\t비\\n', '686.png\\t습엔\\n', '687.png\\t질\\n', '688.png\\t높묵 에\\n', '689.png\\t늑네 쉽 껴\\n', '690.png\\t좁 신꾸갑\\n', '691.png\\t렵최 닦 핏볶\\n', '692.png\\t겁승 잡유극\\n', '693.png\\t쇄녹 견엌\\n', '694.png\\t택둡 식 뭐 쌓닐\\n', '695.png\\t냐뜰죄 갚누 베 삼\\n', '696.png\\t질\\n', '697.png\\t념형껍\\n', '698.png\\t숲 찾 신꼽딸\\n', '699.png\\t히 츰맞촉 글찾낡\\n', '700.png\\t숲름듬 잖 릇황\\n', '701.png\\t획릎 씹\\n', '702.png\\t버치\\n', '703.png\\t니칼어 긁흰짐\\n', '704.png\\t룻권쏘 같좌핸 솟\\n', '705.png\\t뷰\\n', '706.png\\t쉰엘냐 뷰흩 하 잔쉽\\n', '707.png\\t괴끓끌\\n', '708.png\\t해뉴린 폐 샌 월통\\n', '709.png\\t휘 롭 정꿀숲\\n', '710.png\\t열홀 앗\\n', '711.png\\t출꾸찌 움즈 잣칸잎\\n', '712.png\\t말효 땀윗\\n', '713.png\\t꺾 치연뼉\\n', '714.png\\t붕쥐옳 난팔촬 릿갑량 검챔\\n', '715.png\\t밭엔탄 깍클파 편\\n', '716.png\\t갑빛우 증좁 묻김뺏\\n', '717.png\\t르블쩌\\n', '718.png\\t오 붉네튜 줄히 짧낫\\n', '719.png\\t초튼왜 결 겪 늙하솔\\n', '720.png\\t회맑 민긴런 전팀 굳머연\\n', '721.png\\t웃 멋쎄\\n', '722.png\\t깍 팀\\n', '723.png\\t열 버치 다\\n', '724.png\\t핏녁 버꼴맡\\n', '725.png\\t용퓨친 례갖\\n', '726.png\\t앉 치 곳낫아\\n', '727.png\\t덧책뱀 념랑\\n', '728.png\\t냐잠꼽 럭엉 믿\\n', '729.png\\t쌍 꿀꿀\\n', '730.png\\t탓늘곱 텔떻\\n', '731.png\\t웬휘 뒤꽃 댓잎\\n', '732.png\\t맙 국 썰 널컴\\n', '733.png\\t씹 듬 쇼\\n', '734.png\\t왕므쓴 폐 브위다 햄\\n', '735.png\\t취\\n', '736.png\\t싱쓰로 싣뻗 하율걀 늄글\\n', '737.png\\t슷\\n', '738.png\\t액 셔길\\n', '739.png\\t뤄글 섯\\n', '740.png\\t꼼\\n', '741.png\\t춤촉 량북\\n', '742.png\\t첩즌 도항\\n', '743.png\\t엽값살 쏘 벤찮\\n', '744.png\\t즉몽 월벨얼 뻐누 붙\\n', '745.png\\t길\\n', '746.png\\t험멀졸 핵빔 꽂\\n', '747.png\\t뽑존 딱빼\\n', '748.png\\t듬념삼 감또꽉 비\\n', '749.png\\t컨 허빛척 가\\n', '750.png\\t희\\n', '751.png\\t덟절집 빌 하갇\\n', '752.png\\t저 츰져 돼석곱\\n', '753.png\\t뚜 듭 념형껍 갓쓴\\n', '754.png\\t란얼엽 닐촌층\\n', '755.png\\t려러장\\n', '756.png\\t댓 줌녁턴 턴\\n', '757.png\\t법 크\\n', '758.png\\t잊옥뜨 엉 절\\n', '759.png\\t봄찻톨 곁\\n', '760.png\\t걷 욱\\n', '761.png\\t뉴앉칸 나\\n', '762.png\\t측 히래환\\n', '763.png\\t략협 술끼뼉 칸 하험훌\\n', '764.png\\t릭먹 재쓰 우봄 죄욱껌\\n', '765.png\\t잇쉽양 핏녁 엊셋 질텍\\n', '766.png\\t쓴천콩 까 찮꽃상\\n', '767.png\\t곁튼핑 주뵈 학굳 매\\n', '768.png\\t곳 깝응 받안\\n', '769.png\\t링 빛 튀 탑\\n', '770.png\\t석둡 닐촌층\\n', '771.png\\t괜빵붙 퓨븐그 꼬민 붕\\n', '772.png\\t늑네 귀\\n', '773.png\\t잖 령 둘 질텍\\n', '774.png\\t널\\n', '775.png\\t열홀 긋\\n', '776.png\\t목탑웨 긁뿐 범\\n', '777.png\\t무딪패\\n', '778.png\\t놈학\\n', '779.png\\t벤\\n', '780.png\\t참셋 시켓착 좀페근\\n', '781.png\\t는탤랑\\n', '782.png\\t의멩 얼무\\n', '783.png\\t빌젖앙 잔쉽 약뭇퇴\\n', '784.png\\t랑좀싶 꽃요\\n', '785.png\\t딱빼 음의화 홉썹 듣딪같\\n', '786.png\\t덩떼 등늙족 준 림만되\\n', '787.png\\t숟탑니 터\\n', '788.png\\t벨 석 혈젯뽑 뭄\\n', '789.png\\t켓만높 된좁픽\\n', '790.png\\t엌잎 님\\n', '791.png\\t넷뤄 줍 잎땜\\n', '792.png\\t드\\n', '793.png\\t질 댓\\n', '794.png\\t갓색퀴 맞톤\\n', '795.png\\t볕맘무 프뼉잖 효\\n', '796.png\\t슷끌 버꼴맡 틀슨끗 콤\\n', '797.png\\t즐\\n', '798.png\\t채회 돕햄\\n', '799.png\\t깜젯멋 빚낮 율깔 믿랜춤\\n', '800.png\\t쌀\\n', '801.png\\t놓약 싶서\\n', '802.png\\t충\\n', '803.png\\t앞독 릭향특 등끈란 덜\\n', '804.png\\t흉\\n', '805.png\\t편럴윗 히초 갈떻 겪\\n', '806.png\\t라 둑 끌 솥\\n', '807.png\\t낯람 델 결서조\\n', '808.png\\t짐댐 쾌씨 톱\\n', '809.png\\t닦뿌 딱입끓 인\\n', '810.png\\t김뜯껍 옆 저넓튀 큰뭐\\n', '811.png\\t드붕 포곱색 잦\\n', '812.png\\t겨커 휘랗표 든안령\\n', '813.png\\t엌헌덟 팩 익억 좌닭\\n', '814.png\\t쓴 영 학굳 저\\n', '815.png\\t숲산 훨뉘\\n', '816.png\\t시켓착 계섞 씩칸인\\n', '817.png\\t전늦돌\\n', '818.png\\t뜩씀키 설 착 및츠\\n', '819.png\\t귓족힘 빼친끊 둡\\n', '820.png\\t응내\\n', '821.png\\t팝희 원벤\\n', '822.png\\t뜯 뻐엄월 베름 금\\n', '823.png\\t썩뿐 뇨뿐 포곱색 잣칸잎\\n', '824.png\\t니 몇윽찢\\n', '825.png\\t의옆녀 덜패\\n', '826.png\\t컵씹탤 골 흑릎견 원날\\n', '827.png\\t얼줌\\n', '828.png\\t핏녁 씹똑\\n', '829.png\\t튀 싯룹솜\\n', '830.png\\t주 논 역\\n', '831.png\\t럭짙\\n', '832.png\\t염둠 것쑤립\\n', '833.png\\t박앉옥\\n', '834.png\\t히초 례 잎\\n', '835.png\\t젊뱃\\n', '836.png\\t깐심\\n', '837.png\\t참판 땅밟 춤씀 섭린낡\\n', '838.png\\t않뵙늘\\n', '839.png\\t짙발 돈때꼭 업욕삶 직\\n', '840.png\\t쓸옮옮\\n', '841.png\\t벗상\\n', '842.png\\t삼못 봄\\n', '843.png\\t퍼사셈 서새 벨두란\\n', '844.png\\t팝\\n', '845.png\\t빡면 매\\n', '846.png\\t랗괴 량펼 뇌붐 뻐누\\n', '847.png\\t싹돗탑\\n', '848.png\\t슨쁨되 쁘릎십\\n', '849.png\\t은청 셋\\n', '850.png\\t착염 찍\\n', '851.png\\t껌 쾌엽시\\n', '852.png\\t설얻\\n', '853.png\\t응깅 갓 후 얼\\n', '854.png\\t늬뿐\\n', '855.png\\t콤압평 퇴형헌\\n', '856.png\\t켓만높 꽉 탈턴배\\n', '857.png\\t쌓피왜\\n', '858.png\\t러 응\\n', '859.png\\t에쪽 밟\\n', '860.png\\t밭휴\\n', '861.png\\t추헌 념또디 훌 계못병\\n', '862.png\\t벤찮\\n', '863.png\\t결서조 쓴천콩 달 돕솜\\n', '864.png\\t륭져\\n', '865.png\\t동땅뉴\\n', '866.png\\t쌍 레\\n', '867.png\\t국측뭘\\n', '868.png\\t딱옷\\n', '869.png\\t끌늦꿀 볶 되홀근\\n', '870.png\\t끝 외걸\\n', '871.png\\t뒤 슬닭추 튜꼼\\n', '872.png\\t찬 념\\n', '873.png\\t겪든귀\\n', '874.png\\t참럴 월통 베플레\\n', '875.png\\t엇큰덮 술끼뼉 규낳검\\n', '876.png\\t여매 뉘산팎\\n', '877.png\\t양탕상 근 녀도태 땜친\\n', '878.png\\t명꾼 블된박 펴및사\\n', '879.png\\t입 정\\n', '880.png\\t덤 진 햇 허\\n', '881.png\\t픽 묘 벌료 은켜그\\n', '882.png\\t듣홈럽\\n', '883.png\\t찮꽃상 는탤랑 넓\\n', '884.png\\t끄 험멀졸 꼽흘른\\n', '885.png\\t맙츠 에쪽 산 삿\\n', '886.png\\t볶검구 성 깨래딸 팬실붓\\n', '887.png\\t받\\n', '888.png\\t휘 맡센핵 겹숲닫\\n', '889.png\\t챙 흙 쇠박\\n', '890.png\\t잇띄\\n', '891.png\\t싯 략협\\n', '892.png\\t혀왠 팝 펴봇카\\n', '893.png\\t갇\\n', '894.png\\t액컬당 속\\n', '895.png\\t웬\\n', '896.png\\t위꼭캄\\n', '897.png\\t올 몸빌 엊 륭옮\\n', '898.png\\t심옹놔 쿠르\\n', '899.png\\t얄륭 껴꾸 령쌍\\n', '900.png\\t뤄 컷 구 하\\n', '901.png\\t회맑 싱양념\\n', '902.png\\t짧파초 쪽교뛰 계법늑\\n', '903.png\\t뤄 의옆녀 큼\\n', '904.png\\t덤을\\n', '905.png\\t빨릎 체\\n', '906.png\\t컷유묵 탕예 렁\\n', '907.png\\t묵줍빼 쇠르 예며 업욕삶\\n', '908.png\\t춧 쩍녁싫\\n', '909.png\\t램\\n', '910.png\\t먼축 컷 봄 뜨숟난\\n', '911.png\\t착거빡 뜩씀키 걔당벼\\n', '912.png\\t린빠\\n', '913.png\\t뜻 핸짓 터즉\\n', '914.png\\t탕둠릭 여매\\n', '915.png\\t미들넌 칠 들\\n', '916.png\\t껏좋 도눕꽂 푹 앞독\\n', '917.png\\t언 묶풀람 밥촉중\\n', '918.png\\t푹제 작넌잎 뽑\\n', '919.png\\t굉컷 싱상 릭볶걱\\n', '920.png\\t춧뱀토 료 뜨쥐혼 뇌엘쾌\\n', '921.png\\t흙멎완\\n', '922.png\\t우억 중젊덥 활끼 가\\n', '923.png\\t붕쥐옳\\n', '924.png\\t의멩 구응굳\\n', '925.png\\t궁투 해쁘진\\n', '926.png\\t뜨 한\\n', '927.png\\t흥굉 석둡 쩐\\n', '928.png\\t섬통갓 잦븐 제\\n', '929.png\\t중 굵셔 려러장\\n', '930.png\\t주균 합\\n', '931.png\\t뭐덕 맨섞굴\\n', '932.png\\t녕할집\\n', '933.png\\t놈둡\\n', '934.png\\t헬거징 신꾸갑\\n', '935.png\\t덜패 연 숭량 초튼왜\\n', '936.png\\t삶\\n', '937.png\\t랜\\n', '938.png\\t관\\n', '939.png\\t점닐뇨 핸퇴\\n', '940.png\\t답굳 피율 연쾌 급털\\n', '941.png\\t검\\n', '942.png\\t멋쎄 엌번 밥련찰 얗즐형\\n', '943.png\\t고 몇윽찢 탑올\\n', '944.png\\t앗근\\n', '945.png\\t습심 란흡쟤 흑놓\\n', '946.png\\t엄봇츠 싱상 널컴\\n', '947.png\\t긁뿐 늬올\\n', '948.png\\t뜨국슴 양두룹 앗근 긍칼\\n', '949.png\\t언꿀잎 불응\\n', '950.png\\t샌\\n', '951.png\\t데 철저 잠\\n', '952.png\\t및맨 머깝쟁 장길 뚱택\\n', '953.png\\t망얇쇄\\n', '954.png\\t갓막 뇌씌 쓴걸\\n', '955.png\\t프뼉잖 꼭 버치\\n', '956.png\\t댓 삼쩌 롯\\n', '957.png\\t뭣냥 북 량펼 횟찾\\n', '958.png\\t듬목올\\n', '959.png\\t돗\\n', '960.png\\t둡같 춧뱀토\\n', '961.png\\t갇 화 딸임게\\n', '962.png\\t납측어\\n', '963.png\\t례갖\\n', '964.png\\t셔 슬닭추 뭘탓 채회\\n', '965.png\\t릭먹 껑셔 색팀\\n', '966.png\\t아 냐잠꼽\\n', '967.png\\t듣맥 넓 균 채\\n', '968.png\\t쭈\\n', '969.png\\t숫측꼽\\n', '970.png\\t서새 이맨 꼽덩 몽\\n', '971.png\\t굳놔 씀\\n', '972.png\\t규성 열 찢황식 촌\\n', '973.png\\t끈컵 행비밀\\n', '974.png\\t님앗란 퀴훌케\\n', '975.png\\t껌 냇흔 읽슴\\n', '976.png\\t폭밖막 낭꽃얘\\n', '977.png\\t섞 촌탄 사흥\\n', '978.png\\t잎땜\\n', '979.png\\t뻐공\\n', '980.png\\t션옛 렁 켓\\n', '981.png\\t컵걷 찻딪 탕예\\n', '982.png\\t늙\\n', '983.png\\t닐\\n', '984.png\\t굳머연 낭삿줄\\n', '985.png\\t삼 자콩\\n', '986.png\\t선른\\n', '987.png\\t흘징\\n', '988.png\\t짐\\n', '989.png\\t칼\\n', '990.png\\t우넣 베름\\n', '991.png\\t컴같\\n', '992.png\\t별\\n', '993.png\\t협쏟러 팀빛 큼첩\\n', '994.png\\t쉰\\n', '995.png\\t벗상 맛 업욕삶\\n', '996.png\\t걸 김 칸황 있\\n', '997.png\\t귓족힘 븐 커직\\n', '998.png\\t컷인표 잠정많 깎콘웅\\n', '999.png\\t령 반 가 톨번쏘\\n']\n"
     ]
    }
   ],
   "source": [
    "f = open('./word_h/train.txt', 'r', encoding='utf8')\n",
    "data = f.readlines()\n",
    "print(data[:1000])\n",
    "f.close()"
   ]
  },
  {
   "cell_type": "code",
   "execution_count": 9,
   "metadata": {
    "collapsed": false,
    "jupyter": {
     "outputs_hidden": false
    }
   },
   "outputs": [],
   "source": [
    "# word_h data lmdb 파일 생성\n",
    "\n",
    "# # window\n",
    "# !python ./hallymocr/create_lmdb_dataset.py --inputPath ./word_h/ --gtFile ./word_h/train.txt --outputPath ./result/word_h\n",
    "#\n",
    "# # linux\n",
    "# !python3 ./hallymocr/create_lmdb_dataset.py --inputPath ./word_h/ --gtFile ./word_h/train.txt --outputPath ./result/word_h"
   ]
  },
  {
   "cell_type": "code",
   "execution_count": 10,
   "metadata": {
    "collapsed": false,
    "jupyter": {
     "outputs_hidden": false
    }
   },
   "outputs": [],
   "source": [
    "# word_v data lmdb 파일 생성\n",
    "\n",
    "# # window\n",
    "# !python ./hallymocr/create_lmdb_dataset.py --inputPath ./word_v/ --gtFile ./word_v/train.txt --outputPath ./result/word_v\n",
    "#\n",
    "# # linux\n",
    "# !python3 ./hallymocr/create_lmdb_dataset.py --inputPath ./word_v/ --gtFile ./word_v/train.txt --outputPath ./result/word_v"
   ]
  },
  {
   "cell_type": "code",
   "execution_count": 11,
   "metadata": {},
   "outputs": [],
   "source": [
    "# train data lmdb 파일 생성\n",
    "\n",
    "# window\n",
    "# !python ./hallymocr/create_lmdb_dataset.py --inputPath ./open/ --gtFile train.txt --outputPath ./result/train\n",
    "# # linux\n",
    "# !python3 ./hallymocr/create_lmdb_dataset.py --inputPath ./open/ --gtFile train.txt --outputPath ./result/train"
   ]
  },
  {
   "cell_type": "markdown",
   "metadata": {},
   "source": [
    "## OCR 모델 준비"
   ]
  },
  {
   "cell_type": "code",
   "execution_count": 12,
   "metadata": {
    "collapsed": false,
    "jupyter": {
     "outputs_hidden": false
    }
   },
   "outputs": [],
   "source": [
    "import os\n",
    "import sys\n",
    "sys.path.append(\"./hallymocr\")\n",
    "\n",
    "import random\n",
    "import string\n",
    "\n",
    "import torch.backends.cudnn as cudnn\n",
    "import torch.utils.data\n",
    "\n",
    "from hallymocr.train import train\n",
    "\n",
    "# 하이퍼파라미터 설정\n",
    "opt = {\n",
    "    'exp_name': None,\n",
    "    'train_data': './result/',\n",
    "    'valid_data': './result/train',\n",
    "    'manualSeed': 1111,\n",
    "    'workers': 0,\n",
    "    'batch_size': 192,\n",
    "    'num_iter': 1000,\n",
    "    'valInterval': 1,\n",
    "    'saved_model': '',\n",
    "\n",
    "    'FT': False,\n",
    "    'adam': True,\n",
    "    'lr': 0.07,\n",
    "    'beta1': 0.9,\n",
    "    'rho': 0.95,\n",
    "    'eps': 1e-8,\n",
    "    'grad_clip': 5,\n",
    "    'baiduCTC': False,\n",
    "    'select_data': 'word_h-word_v',\n",
    "    'batch_ratio': '0.5-0.5',\n",
    "    'total_data_usage_ratio': '1.0',\n",
    "    'batch_max_length': 25,\n",
    "\n",
    "    'imgH': 64,\n",
    "    'imgW': 64,\n",
    "    'rgb': False,\n",
    "    'character': ' 가각간갇갈감갑값갓강갖같갚갛개객걀걔거걱건걷걸검겁것겉게겨격겪견결겹경곁계고곡곤곧골곰곱곳공과관광괜괴굉교구국군굳굴굵굶굽궁권귀귓규균귤그극근글긁금급긋긍기긴길김깅깊까깍깎깐깔깜깝깡깥깨꺼꺾껌껍껏껑께껴꼬꼭꼴꼼꼽꽂꽃꽉꽤꾸꾼꿀꿈뀌끄끈끊끌끓끔끗끝끼낌나낙낚난날낡남납낫낭낮낯낱낳내냄냇냉냐냥너넉넌널넓넘넣네넥넷녀녁년념녕노녹논놀놈농높놓놔뇌뇨누눈눕뉘뉴늄느늑는늘늙능늦늬니닐님다닥닦단닫달닭닮담답닷당닿대댁댐댓더덕던덜덟덤덥덧덩덮데델도독돈돌돕돗동돼되된두둑둘둠둡둥뒤뒷드득든듣들듬듭듯등디딩딪따딱딴딸땀땅때땜떠떡떤떨떻떼또똑뚜뚫뚱뛰뜨뜩뜯뜰뜻띄라락란람랍랑랗래랜램랫략량러럭런럴럼럽럿렁렇레렉렌려력련렬렵령례로록론롬롭롯료루룩룹룻뤄류륙률륭르른름릇릎리릭린림립릿링마막만많말맑맘맙맛망맞맡맣매맥맨맵맺머먹먼멀멈멋멍멎메멘멩며면멸명몇모목몬몰몸몹못몽묘무묵묶문묻물뭄뭇뭐뭘뭣므미민믿밀밉밌및밑바박밖반받발밝밟밤밥방밭배백뱀뱃뱉버번벌범법벗베벤벨벼벽변별볍병볕보복볶본볼봄봇봉뵈뵙부북분불붉붐붓붕붙뷰브븐블비빌빔빗빚빛빠빡빨빵빼뺏뺨뻐뻔뻗뼈뼉뽑뿌뿐쁘쁨사삭산살삶삼삿상새색샌생샤서석섞선설섬섭섯성세섹센셈셋셔션소속손솔솜솟송솥쇄쇠쇼수숙순숟술숨숫숭숲쉬쉰쉽슈스슨슬슴습슷승시식신싣실싫심십싯싱싶싸싹싼쌀쌍쌓써썩썰썹쎄쏘쏟쑤쓰쓴쓸씀씌씨씩씬씹씻아악안앉않알앓암압앗앙앞애액앨야약얀얄얇양얕얗얘어억언얹얻얼엄업없엇엉엊엌엎에엔엘여역연열엷염엽엿영옆예옛오옥온올옮옳옷옹와완왕왜왠외왼요욕용우욱운울움웃웅워원월웨웬위윗유육율으윽은을음응의이익인일읽잃임입잇있잊잎자작잔잖잘잠잡잣장잦재쟁쟤저적전절젊점접젓정젖제젠젯져조족존졸좀좁종좋좌죄주죽준줄줌줍중쥐즈즉즌즐즘증지직진질짐집짓징짙짚짜짝짧째쨌쩌쩍쩐쩔쩜쪽쫓쭈쭉찌찍찢차착찬찮찰참찻창찾채책챔챙처척천철첩첫청체쳐초촉촌촛총촬최추축춘출춤춥춧충취츠측츰층치칙친칠침칫칭카칸칼캄캐캠커컨컬컴컵컷케켓켜코콘콜콤콩쾌쿄쿠퀴크큰클큼키킬타탁탄탈탑탓탕태택탤터턱턴털텅테텍텔템토톤톨톱통퇴투툴툼퉁튀튜트특튼튿틀틈티틱팀팅파팎판팔팝패팩팬퍼퍽페펜펴편펼평폐포폭폰표푸푹풀품풍퓨프플픔피픽필핏핑하학한할함합항해핵핸햄햇행향허헌험헤헬혀현혈협형혜호혹혼홀홈홉홍화확환활황회획횟횡효후훈훌훔훨휘휴흉흐흑흔흘흙흡흥흩희흰히힘',\n",
    "    'sensitive': False,\n",
    "    'PAD': False,\n",
    "    'data_filtering_off': False,\n",
    "    'Transformation': 'TPS',  # None|TPS\n",
    "    'FeatureExtraction': 'ResNet',  # VGG|ResNet|RCNN\n",
    "    'SequenceModeling': 'BiLSTM',  # None|BiLSTM\n",
    "    'Prediction': 'Attn',  # CTC|Attn\n",
    "    'num_fiducial': 20,\n",
    "    'input_channel': 1,\n",
    "    'output_channel': 512,\n",
    "    'hidden_size': 256,\n",
    "}\n",
    "\n",
    "# 모델 추가 세부사항 설정\n",
    "if not opt['exp_name']:\n",
    "    opt['exp_name'] = '{Transformation}-{FeatureExtraction}-{SequenceModeling}-{Prediction}'.format(**opt)\n",
    "    opt['exp_name'] += '-Seed{manualSeed}'.format(**opt)\n",
    "    # print(opt.exp_name)\n",
    "\n",
    "os.makedirs('./saved_models/{exp_name}'.format(**opt), exist_ok=True)\n",
    "\n",
    "\"\"\" vocab / character number configuration \"\"\"\n",
    "if opt['sensitive']:\n",
    "    opt['character'] = string.printable[:-6]\n",
    "\n",
    "\"\"\" Seed and GPU setting \"\"\"\n",
    "# print(\"Random Seed: \", opt.manualSeed)\n",
    "random.seed(opt['manualSeed'])\n",
    "np.random.seed(opt['manualSeed'])\n",
    "torch.manual_seed(opt['manualSeed'])\n",
    "torch.cuda.manual_seed(opt['manualSeed'])\n",
    "\n",
    "cudnn.benchmark = True\n",
    "cudnn.deterministic = True\n",
    "opt['num_gpu'] = torch.cuda.device_count()\n",
    "# print('device count', opt.num_gpu)\n",
    "\n",
    "if opt['num_gpu'] > 1:\n",
    "    print('------ Use multi-GPU setting ------')\n",
    "    print('if you stuck too long time with multi-GPU setting, try to set --workers 0')\n",
    "    # check multi-GPU issue https://github.com/clovaai/deep-text-recognition-benchmark/issues/1\n",
    "    opt['workers'] = opt['workers'] * opt['num_gpu']\n",
    "    opt['batch_size'] = opt['batch_size'] * opt['num_gpu']"
   ]
  },
  {
   "cell_type": "markdown",
   "metadata": {},
   "source": [
    "## 모델 학습"
   ]
  },
  {
   "cell_type": "code",
   "execution_count": 13,
   "metadata": {
    "collapsed": false,
    "jupyter": {
     "outputs_hidden": false
    }
   },
   "outputs": [
    {
     "name": "stdout",
     "output_type": "stream",
     "text": [
      "Filtering the images containing characters which are not in opt.character\n",
      "Filtering the images whose label is longer than opt.batch_max_length\n",
      "--------------------------------------------------------------------------------\n",
      "dataset_root: ./result/\n",
      "opt.select_data: ['word_h', 'word_v']\n",
      "opt.batch_ratio: ['0.5', '0.5']\n",
      "--------------------------------------------------------------------------------\n",
      "dataset_root:    ./result/\t dataset: word_h\n",
      "sub-directory:\t/word_h\t num samples: 500000\n",
      "num total samples of word_h: 500000 x 1.0 (total_data_usage_ratio) = 500000\n",
      "num samples of word_h per batch: 192 x 0.5 (batch_ratio) = 96\n",
      "--------------------------------------------------------------------------------\n",
      "dataset_root:    ./result/\t dataset: word_v\n"
     ]
    },
    {
     "ename": "KeyboardInterrupt",
     "evalue": "",
     "output_type": "error",
     "traceback": [
      "\u001b[1;31m---------------------------------------------------------------------------\u001b[0m",
      "\u001b[1;31mKeyboardInterrupt\u001b[0m                         Traceback (most recent call last)",
      "\u001b[1;32m~\\AppData\\Local\\Temp\\ipykernel_19448\\2320770528.py\u001b[0m in \u001b[0;36m<module>\u001b[1;34m\u001b[0m\n\u001b[0;32m      1\u001b[0m \u001b[1;31m# train\u001b[0m\u001b[1;33m\u001b[0m\u001b[1;33m\u001b[0m\u001b[1;33m\u001b[0m\u001b[0m\n\u001b[1;32m----> 2\u001b[1;33m \u001b[0mtrain\u001b[0m\u001b[1;33m(\u001b[0m\u001b[0mopt\u001b[0m\u001b[1;33m)\u001b[0m\u001b[1;33m\u001b[0m\u001b[1;33m\u001b[0m\u001b[0m\n\u001b[0m",
      "\u001b[1;32md:\\Projects\\Python\\Dacon\\final\\customocr\\hallymocr\\train.py\u001b[0m in \u001b[0;36mtrain\u001b[1;34m(opt)\u001b[0m\n\u001b[0;32m    138\u001b[0m     \u001b[0mopt\u001b[0m\u001b[1;33m[\u001b[0m\u001b[1;34m'select_data'\u001b[0m\u001b[1;33m]\u001b[0m \u001b[1;33m=\u001b[0m \u001b[0mopt\u001b[0m\u001b[1;33m[\u001b[0m\u001b[1;34m'select_data'\u001b[0m\u001b[1;33m]\u001b[0m\u001b[1;33m.\u001b[0m\u001b[0msplit\u001b[0m\u001b[1;33m(\u001b[0m\u001b[1;34m'-'\u001b[0m\u001b[1;33m)\u001b[0m\u001b[1;33m\u001b[0m\u001b[1;33m\u001b[0m\u001b[0m\n\u001b[0;32m    139\u001b[0m     \u001b[0mopt\u001b[0m\u001b[1;33m[\u001b[0m\u001b[1;34m'batch_ratio'\u001b[0m\u001b[1;33m]\u001b[0m \u001b[1;33m=\u001b[0m \u001b[0mopt\u001b[0m\u001b[1;33m[\u001b[0m\u001b[1;34m'batch_ratio'\u001b[0m\u001b[1;33m]\u001b[0m\u001b[1;33m.\u001b[0m\u001b[0msplit\u001b[0m\u001b[1;33m(\u001b[0m\u001b[1;34m'-'\u001b[0m\u001b[1;33m)\u001b[0m\u001b[1;33m\u001b[0m\u001b[1;33m\u001b[0m\u001b[0m\n\u001b[1;32m--> 140\u001b[1;33m     \u001b[0mtrain_dataset\u001b[0m \u001b[1;33m=\u001b[0m \u001b[0mBatch_Balanced_Dataset\u001b[0m\u001b[1;33m(\u001b[0m\u001b[0mopt\u001b[0m\u001b[1;33m)\u001b[0m\u001b[1;33m\u001b[0m\u001b[1;33m\u001b[0m\u001b[0m\n\u001b[0m\u001b[0;32m    141\u001b[0m \u001b[1;33m\u001b[0m\u001b[0m\n\u001b[0;32m    142\u001b[0m     \u001b[0mlog\u001b[0m \u001b[1;33m=\u001b[0m \u001b[0mopen\u001b[0m\u001b[1;33m(\u001b[0m\u001b[1;34m'./saved_models/{exp_name}/log_dataset.txt'\u001b[0m\u001b[1;33m.\u001b[0m\u001b[0mformat\u001b[0m\u001b[1;33m(\u001b[0m\u001b[1;33m**\u001b[0m\u001b[0mopt\u001b[0m\u001b[1;33m)\u001b[0m\u001b[1;33m,\u001b[0m \u001b[1;34m'a'\u001b[0m\u001b[1;33m)\u001b[0m\u001b[1;33m\u001b[0m\u001b[1;33m\u001b[0m\u001b[0m\n",
      "\u001b[1;32md:\\Projects\\Python\\Dacon\\final\\customocr\\hallymocr\\dataset.py\u001b[0m in \u001b[0;36m__init__\u001b[1;34m(self, opt)\u001b[0m\n\u001b[0;32m     40\u001b[0m             \u001b[0mprint\u001b[0m\u001b[1;33m(\u001b[0m\u001b[0mdashed_line\u001b[0m\u001b[1;33m)\u001b[0m\u001b[1;33m\u001b[0m\u001b[1;33m\u001b[0m\u001b[0m\n\u001b[0;32m     41\u001b[0m             \u001b[0mlog\u001b[0m\u001b[1;33m.\u001b[0m\u001b[0mwrite\u001b[0m\u001b[1;33m(\u001b[0m\u001b[0mdashed_line\u001b[0m \u001b[1;33m+\u001b[0m \u001b[1;34m'\\n'\u001b[0m\u001b[1;33m)\u001b[0m\u001b[1;33m\u001b[0m\u001b[1;33m\u001b[0m\u001b[0m\n\u001b[1;32m---> 42\u001b[1;33m             \u001b[0m_dataset\u001b[0m\u001b[1;33m,\u001b[0m \u001b[0m_dataset_log\u001b[0m \u001b[1;33m=\u001b[0m \u001b[0mhierarchical_dataset\u001b[0m\u001b[1;33m(\u001b[0m\u001b[0mroot\u001b[0m\u001b[1;33m=\u001b[0m\u001b[0mopt\u001b[0m\u001b[1;33m[\u001b[0m\u001b[1;34m'train_data'\u001b[0m\u001b[1;33m]\u001b[0m\u001b[1;33m,\u001b[0m \u001b[0mopt\u001b[0m\u001b[1;33m=\u001b[0m\u001b[0mopt\u001b[0m\u001b[1;33m,\u001b[0m \u001b[0mselect_data\u001b[0m\u001b[1;33m=\u001b[0m\u001b[1;33m[\u001b[0m\u001b[0mselected_d\u001b[0m\u001b[1;33m]\u001b[0m\u001b[1;33m)\u001b[0m\u001b[1;33m\u001b[0m\u001b[1;33m\u001b[0m\u001b[0m\n\u001b[0m\u001b[0;32m     43\u001b[0m             \u001b[0mtotal_number_dataset\u001b[0m \u001b[1;33m=\u001b[0m \u001b[0mlen\u001b[0m\u001b[1;33m(\u001b[0m\u001b[0m_dataset\u001b[0m\u001b[1;33m)\u001b[0m\u001b[1;33m\u001b[0m\u001b[1;33m\u001b[0m\u001b[0m\n\u001b[0;32m     44\u001b[0m             \u001b[0mlog\u001b[0m\u001b[1;33m.\u001b[0m\u001b[0mwrite\u001b[0m\u001b[1;33m(\u001b[0m\u001b[0m_dataset_log\u001b[0m\u001b[1;33m)\u001b[0m\u001b[1;33m\u001b[0m\u001b[1;33m\u001b[0m\u001b[0m\n",
      "\u001b[1;32md:\\Projects\\Python\\Dacon\\final\\customocr\\hallymocr\\dataset.py\u001b[0m in \u001b[0;36mhierarchical_dataset\u001b[1;34m(root, opt, select_data)\u001b[0m\n\u001b[0;32m    116\u001b[0m \u001b[1;33m\u001b[0m\u001b[0m\n\u001b[0;32m    117\u001b[0m             \u001b[1;32mif\u001b[0m \u001b[0mselect_flag\u001b[0m\u001b[1;33m:\u001b[0m\u001b[1;33m\u001b[0m\u001b[1;33m\u001b[0m\u001b[0m\n\u001b[1;32m--> 118\u001b[1;33m                 \u001b[0mdataset\u001b[0m \u001b[1;33m=\u001b[0m \u001b[0mLmdbDataset\u001b[0m\u001b[1;33m(\u001b[0m\u001b[0mdirpath\u001b[0m\u001b[1;33m,\u001b[0m \u001b[0mopt\u001b[0m\u001b[1;33m)\u001b[0m\u001b[1;33m\u001b[0m\u001b[1;33m\u001b[0m\u001b[0m\n\u001b[0m\u001b[0;32m    119\u001b[0m                 \u001b[0msub_dataset_log\u001b[0m \u001b[1;33m=\u001b[0m \u001b[1;34mf'sub-directory:\\t/{os.path.relpath(dirpath, root)}\\t num samples: {len(dataset)}'\u001b[0m\u001b[1;33m\u001b[0m\u001b[1;33m\u001b[0m\u001b[0m\n\u001b[0;32m    120\u001b[0m                 \u001b[0mprint\u001b[0m\u001b[1;33m(\u001b[0m\u001b[0msub_dataset_log\u001b[0m\u001b[1;33m)\u001b[0m\u001b[1;33m\u001b[0m\u001b[1;33m\u001b[0m\u001b[0m\n",
      "\u001b[1;32md:\\Projects\\Python\\Dacon\\final\\customocr\\hallymocr\\dataset.py\u001b[0m in \u001b[0;36m__init__\u001b[1;34m(self, root, opt)\u001b[0m\n\u001b[0;32m    159\u001b[0m                     \u001b[0mindex\u001b[0m \u001b[1;33m+=\u001b[0m \u001b[1;36m1\u001b[0m  \u001b[1;31m# lmdb starts with 1\u001b[0m\u001b[1;33m\u001b[0m\u001b[1;33m\u001b[0m\u001b[0m\n\u001b[0;32m    160\u001b[0m                     \u001b[0mlabel_key\u001b[0m \u001b[1;33m=\u001b[0m \u001b[1;34m'label-%09d'\u001b[0m\u001b[1;33m.\u001b[0m\u001b[0mencode\u001b[0m\u001b[1;33m(\u001b[0m\u001b[1;33m)\u001b[0m \u001b[1;33m%\u001b[0m \u001b[0mindex\u001b[0m\u001b[1;33m\u001b[0m\u001b[1;33m\u001b[0m\u001b[0m\n\u001b[1;32m--> 161\u001b[1;33m                     \u001b[0mlabel\u001b[0m \u001b[1;33m=\u001b[0m \u001b[0mtxn\u001b[0m\u001b[1;33m.\u001b[0m\u001b[0mget\u001b[0m\u001b[1;33m(\u001b[0m\u001b[0mlabel_key\u001b[0m\u001b[1;33m)\u001b[0m\u001b[1;33m.\u001b[0m\u001b[0mdecode\u001b[0m\u001b[1;33m(\u001b[0m\u001b[1;34m'utf-8'\u001b[0m\u001b[1;33m)\u001b[0m\u001b[1;33m\u001b[0m\u001b[1;33m\u001b[0m\u001b[0m\n\u001b[0m\u001b[0;32m    162\u001b[0m \u001b[1;33m\u001b[0m\u001b[0m\n\u001b[0;32m    163\u001b[0m                     \u001b[1;32mif\u001b[0m \u001b[0mlen\u001b[0m\u001b[1;33m(\u001b[0m\u001b[0mlabel\u001b[0m\u001b[1;33m)\u001b[0m \u001b[1;33m>\u001b[0m \u001b[0mself\u001b[0m\u001b[1;33m.\u001b[0m\u001b[0mopt\u001b[0m\u001b[1;33m[\u001b[0m\u001b[1;34m'batch_max_length'\u001b[0m\u001b[1;33m]\u001b[0m\u001b[1;33m:\u001b[0m\u001b[1;33m\u001b[0m\u001b[1;33m\u001b[0m\u001b[0m\n",
      "\u001b[1;31mKeyboardInterrupt\u001b[0m: "
     ]
    }
   ],
   "source": [
    "# train\n",
    "train(opt)"
   ]
  },
  {
   "cell_type": "markdown",
   "metadata": {},
   "source": [
    "## TextRecognitionDataGenerator 데이터로 train data 예측"
   ]
  },
  {
   "cell_type": "code",
   "execution_count": null,
   "metadata": {
    "collapsed": false,
    "jupyter": {
     "outputs_hidden": false
    }
   },
   "outputs": [],
   "source": [
    "from hallymocr.test import test\n",
    "\n",
    "# 저장된 모델 load\n",
    "opt['saved_model'] = 'saved_models/{Transformation}-{FeatureExtraction}-{SequenceModeling}-{Prediction}-Seed{manualSeed}/best_accuracy.pth'.format(**opt)\n",
    "opt['test_data'] = './open/train'\n",
    "\n",
    "# test\n",
    "result = test(opt)"
   ]
  },
  {
   "cell_type": "code",
   "execution_count": null,
   "metadata": {
    "collapsed": false,
    "jupyter": {
     "outputs_hidden": false
    }
   },
   "outputs": [],
   "source": [
    "import pandas as pd\n",
    "\n",
    "train_csv_path = 'open/train.csv'\n",
    "train_csv = pd.read_csv(train_csv_path)\n",
    "train_csv['text'] = result"
   ]
  },
  {
   "cell_type": "code",
   "execution_count": null,
   "metadata": {
    "collapsed": false,
    "jupyter": {
     "outputs_hidden": false
    }
   },
   "outputs": [],
   "source": [
    "from datetime import datetime\n",
    "\n",
    "time = datetime.now().strftime('%m%d_%H%M')\n",
    "csv_name = f'open/train_{time}.csv'\n",
    "train_csv.to_csv(csv_name, index=False, encoding='UTF-8')"
   ]
  },
  {
   "cell_type": "code",
   "execution_count": null,
   "metadata": {
    "collapsed": false,
    "jupyter": {
     "outputs_hidden": false
    }
   },
   "outputs": [],
   "source": [
    "pd.read_csv(csv_name)"
   ]
  },
  {
   "cell_type": "code",
   "execution_count": null,
   "metadata": {
    "collapsed": false,
    "jupyter": {
     "outputs_hidden": false
    }
   },
   "outputs": [],
   "source": [
    "pred_csv_path = csv_name\n",
    "pred_csv = pd.read_csv(pred_csv_path)\n",
    "\n",
    "# lmdb 파일을 만들기 위한 txt 파일 저장\n",
    "pred_csv.to_csv('open/train.txt', sep='\\t', header=False, index=False)"
   ]
  },
  {
   "cell_type": "markdown",
   "metadata": {},
   "source": [
    "### train의 레이블을 모델의 예측값으로 교체한 후 해당 모델에 변경된 train data 학습"
   ]
  },
  {
   "cell_type": "code",
   "execution_count": null,
   "metadata": {
    "collapsed": false,
    "jupyter": {
     "outputs_hidden": false
    }
   },
   "outputs": [],
   "source": [
    "# train data lmdb 파일 생성\n",
    "\n",
    "# window\n",
    "# !python ./hallymocr/create_lmdb_dataset.py --inputPath ./open/ --gtFile open/train.txt --outputPath ./result/train\n",
    "# # linux\n",
    "# !python3 ./hallymocr/create_lmdb_dataset.py --inputPath ./open/ --gtFile open/train.txt --outputPath ./result/train"
   ]
  },
  {
   "cell_type": "code",
   "execution_count": null,
   "metadata": {
    "collapsed": false,
    "jupyter": {
     "outputs_hidden": false
    }
   },
   "outputs": [],
   "source": [
    "opt['exp_name'] = '{Transformation}-{FeatureExtraction}-{SequenceModeling}-{Prediction}-Seed{manualSeed}'.format(**opt)\n",
    "opt['select_data'] = 'train'\n",
    "opt['batch_ratio'] = '1'"
   ]
  },
  {
   "cell_type": "code",
   "execution_count": null,
   "metadata": {
    "collapsed": false,
    "jupyter": {
     "outputs_hidden": false
    }
   },
   "outputs": [],
   "source": [
    "train(opt)"
   ]
  },
  {
   "cell_type": "markdown",
   "metadata": {},
   "source": [
    "## test data 예측"
   ]
  },
  {
   "cell_type": "code",
   "execution_count": null,
   "metadata": {
    "collapsed": false,
    "jupyter": {
     "outputs_hidden": false
    }
   },
   "outputs": [],
   "source": [
    "# 저장된 모델 load\n",
    "opt['saved_model'] = 'saved_models/{Transformation}-{FeatureExtraction}-{SequenceModeling}-{Prediction}-Seed{manualSeed}/best_accuracy.pth'.format(**opt)\n",
    "opt['test_data'] = './open/test'\n",
    "\n",
    "# test\n",
    "result = test(opt)"
   ]
  },
  {
   "cell_type": "markdown",
   "metadata": {},
   "source": [
    "## CSV 파일 생성"
   ]
  },
  {
   "cell_type": "code",
   "execution_count": null,
   "metadata": {
    "collapsed": false,
    "jupyter": {
     "outputs_hidden": false
    }
   },
   "outputs": [],
   "source": [
    "result_csv_path = 'open/sample_submission.csv'\n",
    "result_csv = pd.read_csv(result_csv_path)\n",
    "\n",
    "result_csv['text'] = result"
   ]
  },
  {
   "cell_type": "code",
   "execution_count": null,
   "metadata": {
    "collapsed": false,
    "jupyter": {
     "outputs_hidden": false
    }
   },
   "outputs": [],
   "source": [
    "time = datetime.now().strftime('%m%d_%H%M')\n",
    "csv_name = f'{time}.csv'\n",
    "result_csv.to_csv(csv_name, index=False, encoding='UTF-8')"
   ]
  },
  {
   "cell_type": "code",
   "execution_count": null,
   "metadata": {
    "collapsed": false,
    "jupyter": {
     "outputs_hidden": false
    }
   },
   "outputs": [],
   "source": [
    "pd.read_csv(csv_name)"
   ]
  }
 ],
 "metadata": {
  "kernelspec": {
   "display_name": "Python 3.7.13 ('ocr')",
   "language": "python",
   "name": "python3"
  },
  "language_info": {
   "codemirror_mode": {
    "name": "ipython",
    "version": 3
   },
   "file_extension": ".py",
   "mimetype": "text/x-python",
   "name": "python",
   "nbconvert_exporter": "python",
   "pygments_lexer": "ipython3",
   "version": "3.7.13"
  },
  "vscode": {
   "interpreter": {
    "hash": "31727eb632e7da8a5b80cec6e557fc09a461fb488b9fb3204718db5f91f70f0b"
   }
  }
 },
 "nbformat": 4,
 "nbformat_minor": 4
}
